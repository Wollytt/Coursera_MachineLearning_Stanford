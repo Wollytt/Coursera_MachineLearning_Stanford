{
 "cells": [
  {
   "cell_type": "code",
   "execution_count": 1,
   "metadata": {},
   "outputs": [],
   "source": [
    "from IPython.core.interactiveshell import InteractiveShell\n",
    "InteractiveShell.ast_node_interactivity = \"all\"\n",
    "import warnings\n",
    "warnings.filterwarnings('ignore')"
   ]
  },
  {
   "cell_type": "code",
   "execution_count": 408,
   "metadata": {},
   "outputs": [],
   "source": [
    "import scipy.io\n",
    "import matplotlib.pyplot as plt\n",
    "import math\n",
    "import numpy as np\n",
    "import pandas as pd\n",
    "from scipy.optimize import fmin_cg"
   ]
  },
  {
   "cell_type": "markdown",
   "metadata": {},
   "source": [
    "## Machine Learning: Programming Exercise 8\n",
    "## Anomaly Detection and Recommender Systems\n",
    "## 1. Anomaly Detection\n",
    "In this exercise, you will implement an anomaly detection algorithm to detect anomalous behavior in server computers. The features measure the throughput (mb/s) and latency (ms) of response of each server. While your servers were operating, you collected $m=307$ examples of how they were behaving, and thus have an unlabeled dataset $\\{x^{(1)},\\ldots,x^{(m)}\\}$. You suspect that the vast majority of these examples are 'normal' (non-anomalous) examples of the servers operating normally, but there might also be some examples of servers acting anomalously within this dataset.  \n",
    "You will use a Gaussian model to detect anomalous examples in your dataset. You will first start on a 2D dataset that will allow you to visualize what the algorithm is doing. On that dataset you will fit a Gaussian distribution and then find values that have very low probability and hence can be considered anomalies. After that, you will apply the anomaly detection algorithm to a larger dataset with many dimensions. The code below will visualize the dataset as shown in Figure 1."
   ]
  },
  {
   "cell_type": "code",
   "execution_count": 178,
   "metadata": {},
   "outputs": [],
   "source": [
    "mat = scipy.io.loadmat('ex8data1.mat')\n",
    "X = mat['X']\n",
    "Xval = mat['Xval']\n",
    "yval = mat['yval']"
   ]
  },
  {
   "cell_type": "code",
   "execution_count": 179,
   "metadata": {},
   "outputs": [
    {
     "data": {
      "text/plain": [
       "<Figure size 432x360 with 0 Axes>"
      ]
     },
     "execution_count": 179,
     "metadata": {},
     "output_type": "execute_result"
    },
    {
     "data": {
      "text/plain": [
       "<matplotlib.collections.PathCollection at 0xb12f469b0>"
      ]
     },
     "execution_count": 179,
     "metadata": {},
     "output_type": "execute_result"
    },
    {
     "data": {
      "text/plain": [
       "Text(0.5, 0, 'Latency (ms)')"
      ]
     },
     "execution_count": 179,
     "metadata": {},
     "output_type": "execute_result"
    },
    {
     "data": {
      "text/plain": [
       "Text(0, 0.5, 'Throughput (mb/s)')"
      ]
     },
     "execution_count": 179,
     "metadata": {},
     "output_type": "execute_result"
    },
    {
     "data": {
      "text/plain": [
       "Text(0.5, 1.0, 'Figure 1: The First Dataset.')"
      ]
     },
     "execution_count": 179,
     "metadata": {},
     "output_type": "execute_result"
    },
    {
     "data": {
      "image/png": "[encoded data removed]",
      "text/plain": [
       "<Figure size 432x360 with 1 Axes>"
      ]
     },
     "metadata": {
      "needs_background": "light"
     },
     "output_type": "display_data"
    }
   ],
   "source": [
    "plt.figure(figsize=(6,5))\n",
    "plt.scatter(x = X[:,0], y =X[:,1], c='blue')\n",
    "plt.xlabel('Latency (ms)')\n",
    "plt.ylabel('Throughput (mb/s)')\n",
    "plt.title('Figure 1: The First Dataset.')"
   ]
  },
  {
   "cell_type": "markdown",
   "metadata": {},
   "source": [
    "### 1.1 Gaussian distribution\n",
    "To perform anomaly detection, you will first need to fit a model to the data's distribution. Given a training set $\\{x^{(1)},\\dots,x^{(m)}\\}$ (where $x^{(i)}\\in\\mathbb{R}^n$), you want to estimate the Gaussian distribution for each of the features $x_i$. For each feature $i = 1\\ldots n$ you need to find parameters $\\mu_i$ and $\\sigma^2_i$ that fit the data in the $i$-th dimension $\\{x_i^{(1)},\\ldots,x^{(m)}_i\\}$(the $i$-th dimension of each example).  \n",
    "    The Gaussian distribution is given by  \n",
    "<center>$p(x;\\mu,\\sigma^2)=\\frac{1}{\\sqrt{2\\pi\\sigma^2}}e^{-\\frac{(x-\\mu)^2}{2\\sigma^2}}$</center>\n",
    "where $\\mu$ is the mean and $\\sigma^2$ controls the variance.  \n",
    "\n",
    "### 1.2 Estimating parameters for a Gaussian\n",
    "You can estimate the parameters, $(\\mu_i,\\sigma_i^2)$, of the $i$-th feature by using the following equations. To estimate the mean, you will use:\n",
    "<center>$\\mu_i = \\frac{1}{m}\\sum_{j=1}^m{x^{(j)}}$</center>\n",
    "and for the variance you will use: \n",
    "<center>$\\sigma^2_i = \\frac{1}{m}\\sum_{j=1}^m{(x^{(j)}-\\mu_i)^2}$</center>"
   ]
  },
  {
   "cell_type": "code",
   "execution_count": 10,
   "metadata": {},
   "outputs": [],
   "source": [
    "def estimateGaussian(X):\n",
    "    (m, n) = X.shape\n",
    "    mu = X.mean(axis=0)\n",
    "    sigma2 = X.var(axis=0)\n",
    "    return mu, sigma2"
   ]
  },
  {
   "cell_type": "code",
   "execution_count": 180,
   "metadata": {},
   "outputs": [],
   "source": [
    "mu, sigma2 = estimateGaussian(X)"
   ]
  },
  {
   "cell_type": "code",
   "execution_count": 181,
   "metadata": {},
   "outputs": [
    {
     "data": {
      "text/plain": [
       "(array([14.11222578, 14.99771051]), array([1.83263141, 1.70974533]))"
      ]
     },
     "execution_count": 181,
     "metadata": {},
     "output_type": "execute_result"
    }
   ],
   "source": [
    "mu, sigma2"
   ]
  },
  {
   "cell_type": "code",
   "execution_count": 182,
   "metadata": {},
   "outputs": [],
   "source": [
    "def multivariateGaussian(X, mu, sigma2):\n",
    "    k = len(mu)\n",
    "    if len(sigma2.shape) == 1:\n",
    "        sigma2 = np.diag(sigma2)\n",
    "    elif (sigma2.shape[0] == 1) or (sigma2.shape[1] == 1):\n",
    "        sigma2 = np.diag(sigma2)\n",
    "    X = X - mu\n",
    "    p = ((2 * math.pi)**(-k/2))*(np.linalg.det(sigma2)**(-0.5))*np.exp(\n",
    "        -0.5*np.sum(np.dot(X,np.linalg.pinv(sigma2))*X, axis=1))\n",
    "    return p"
   ]
  },
  {
   "cell_type": "code",
   "execution_count": 218,
   "metadata": {},
   "outputs": [],
   "source": [
    "p = multivariateGaussian(X, mu, sigma2)"
   ]
  },
  {
   "cell_type": "markdown",
   "metadata": {},
   "source": [
    "### 1.3 Selecting the threshold, $\\epsilon$\n",
    "Now that you have estimated the Gaussian parameters, you can investigate which examples have a very high probability given this distribution and which examples have a very low probability. The low probability examples are more likely to be the anomalies in our dataset. One way to determine which examples are anomalies is to select a threshold based on a cross validation set. In this part of the exercise, you will implement an algorithm to select the threshold  using the $F_1$ score on a cross validation set.  \n",
    "\n",
    " You should now complete the function selectThreshold. For this, we will use a cross validation set $\\{(x^{(1)}_{cv},y^{(1)}_{cv}),\\ldots, (x^{(m)}_{cv},y^{(m)}_{cv})\\}$, where the label $y=1$ corresponds to an anomalous example, and $y=0$ corresponds to a normal example. For each cross validation example, we will compute $p(x^{(i)}_{cv})$. The vector of all of these probabilities $p(x^{(1)}_{cv}),\\ldots,p(x^{(m)}_{cv})$ is passed to selectThreshold.m in the vector pval. The corresponding labels $y^{(1)}_{cv},\\ldots,y^{m)}_{cv}$ is passed to the same function in the vector yval.  \n",
    " \n",
    " The function selectThreshold.m should return two values; the first is the selected threshold $\\epsilon$. If an example $x$ has a low probability $p(x) < \\epsilon$, then it is considered to be an anomaly. The function should also return the $F_1$ score, which tells you how well you're doing on finding the ground truth anomalies given a certain threshold. For many different values of $\\epsilon$, you will compute the resulting $F_1$ score by computing how many examples the current threshold classifies correctly and incorrectly.  \n",
    " \n",
    " The $F_1$ score is computed using precision (prec) and recall (rec):\n",
    "\n",
    "<center>$F_1 = \\frac{2 ( prec)(rec)}{prec + rec}$</center>\n",
    "\n",
    "You compute precision and recall by:\n",
    "\n",
    "<center>$prec = \\frac{tp}{tp + fp}$</center>\n",
    "<center>$rec = \\frac{tp}{tp + fn}$</center>"
   ]
  },
  {
   "cell_type": "code",
   "execution_count": 195,
   "metadata": {},
   "outputs": [],
   "source": [
    "def selectThreshold(yval, pval):\n",
    "    best_epsilon = 0\n",
    "    max_f1 = 0\n",
    "    step_size = (max(pval)-min(pval))/1000\n",
    "    for epsilon in np.arange(min(pval), max(pval), step_size):\n",
    "        predictions = (pval < epsilon)\n",
    "        fp = np.sum((predictions == 1) & (yval.flatten() == 0))\n",
    "        fn = np.sum((predictions == 0) & (yval.flatten() == 1))\n",
    "        tp = np.sum((predictions == 1) & (yval.flatten() == 1))\n",
    "        prec = tp / (tp + fp)\n",
    "        rec = tp / (tp + fn)\n",
    "        F1 = 2 * prec * rec / (prec + rec)\n",
    "        if F1 > max_f1:\n",
    "            max_f1 = F1\n",
    "            best_epsilon = epsilon\n",
    "    return best_epsilon, max_f1"
   ]
  },
  {
   "cell_type": "code",
   "execution_count": 196,
   "metadata": {},
   "outputs": [],
   "source": [
    "pval = multivariateGaussian(Xval, mu, sigma2)\n",
    "epsilon, F1 = selectThreshold(yval, pval)"
   ]
  },
  {
   "cell_type": "code",
   "execution_count": 197,
   "metadata": {},
   "outputs": [
    {
     "name": "stdout",
     "output_type": "stream",
     "text": [
      "Best epsilon found using cross-validation:  8.990852779269495e-05\n",
      "Best F1 on Cross Validation Set:  0.8750000000000001\n"
     ]
    }
   ],
   "source": [
    "print('Best epsilon found using cross-validation: ', epsilon)\n",
    "print('Best F1 on Cross Validation Set: ', F1)"
   ]
  },
  {
   "cell_type": "code",
   "execution_count": 219,
   "metadata": {},
   "outputs": [
    {
     "data": {
      "text/plain": [
       "<Figure size 432x360 with 0 Axes>"
      ]
     },
     "execution_count": 219,
     "metadata": {},
     "output_type": "execute_result"
    },
    {
     "data": {
      "text/plain": [
       "<matplotlib.collections.PathCollection at 0xb13ae3b00>"
      ]
     },
     "execution_count": 219,
     "metadata": {},
     "output_type": "execute_result"
    },
    {
     "data": {
      "text/plain": [
       "<matplotlib.collections.PathCollection at 0xb13ae3dd8>"
      ]
     },
     "execution_count": 219,
     "metadata": {},
     "output_type": "execute_result"
    },
    {
     "data": {
      "text/plain": [
       "Text(0.5, 0, 'Latency (ms)')"
      ]
     },
     "execution_count": 219,
     "metadata": {},
     "output_type": "execute_result"
    },
    {
     "data": {
      "text/plain": [
       "Text(0, 0.5, 'Throughput (mb/s)')"
      ]
     },
     "execution_count": 219,
     "metadata": {},
     "output_type": "execute_result"
    },
    {
     "data": {
      "image/png": "[encoded data removed]",
      "text/plain": [
       "<Figure size 432x360 with 1 Axes>"
      ]
     },
     "metadata": {
      "needs_background": "light"
     },
     "output_type": "display_data"
    }
   ],
   "source": [
    "plt.figure(figsize=(6,5))\n",
    "plt.scatter(x = X[:,0], y =X[:,1], c='blue')\n",
    "plt.scatter(x = np.where(p.reshape(len(pval), 1)<epsilon, X, None)[:,0], \n",
    "            y =np.where(p.reshape(len(pval), 1)<epsilon, X, None)[:,1], \n",
    "            marker='o', c='none', edgecolors='red',s=200)\n",
    "plt.xlabel('Latency (ms)')\n",
    "plt.ylabel('Throughput (mb/s)')"
   ]
  },
  {
   "cell_type": "markdown",
   "metadata": {},
   "source": [
    "### 1.4 High dimensional dataset\n",
    "The code in this section will run the anomaly detection algorithm you implemented on a more realistic and much harder dataset. In this dataset, each example is described by 11 features, capturing many more properties of your compute servers. The code below will use your code to estimate the Gaussian parameters ($\\mu_i$ and $\\sigma^2_i$), evaluate the probabilities for both the training data X from which you estimated the Gaussian parameters, and do so for the the cross-validation set Xval. Finally, it will use selectThreshold to find the best threshold $\\epsilon$. You should see a value epsilon of about 1.38e-18, and 117 anomalies found."
   ]
  },
  {
   "cell_type": "code",
   "execution_count": 220,
   "metadata": {},
   "outputs": [],
   "source": [
    "mat = scipy.io.loadmat('ex8data2.mat')\n",
    "X = mat['X']\n",
    "Xval = mat['Xval']\n",
    "yval = mat['yval']"
   ]
  },
  {
   "cell_type": "code",
   "execution_count": 222,
   "metadata": {},
   "outputs": [
    {
     "name": "stdout",
     "output_type": "stream",
     "text": [
      "Best epsilon found using cross-validation:  1.377228890761358e-18\n",
      "Best F1 on Cross Validation Set:  0.6153846153846154\n",
      "# Outliers found:  117\n"
     ]
    }
   ],
   "source": [
    "mu, sigma2 = estimateGaussian(X)\n",
    "p = multivariateGaussian(X, mu, sigma2)\n",
    "pval = multivariateGaussian(Xval, mu, sigma2)\n",
    "epsilon, F1 = selectThreshold(yval, pval)\n",
    "print('Best epsilon found using cross-validation: ', epsilon)\n",
    "print('Best F1 on Cross Validation Set: ', F1)\n",
    "print('# Outliers found: ', sum(p < epsilon))"
   ]
  },
  {
   "cell_type": "markdown",
   "metadata": {},
   "source": [
    "## 2. Recommender Systems\n",
    "In this part of the exercise, you will implement the collaborative filtering learning algorithm and apply it to a dataset of movie ratings*. This dataset consists of ratings on a scale of 1 to 5. The dataset has  users, and  movies.  \n",
    "### 2.1 Movie ratings dataset\n",
    "The matrix Y (a num_movies  num_users matrix) stores the ratings  $y^{(i,j)}$(from 1 to 5). The matrix R is an binary-valued indicator matrix, where $R(i,j) = 1$ if user $j$ gave a rating to movie $i$, and $R(i,j) = 0$ otherwise. The objective of collaborative filtering is to predict movie ratings for the movies that users have not yet rated, that is, the entries with $R(i,j) = 0$. This will allow us to recommend the movies with the highest predicted ratings to the user.  \n",
    " To help you understand the matrix $Y$, the code below will compute the average movie rating for the first movie (Toy Story) and output the average rating to the screen. Throughout this part of the exercise, you will also be working with the matrices, $X$ and $Theta$:"
   ]
  },
  {
   "cell_type": "code",
   "execution_count": 223,
   "metadata": {},
   "outputs": [],
   "source": [
    "mat = scipy.io.loadmat('ex8_movies.mat')\n",
    "Y = mat['Y']\n",
    "R = mat['R']"
   ]
  },
  {
   "cell_type": "code",
   "execution_count": 224,
   "metadata": {},
   "outputs": [
    {
     "data": {
      "text/plain": [
       "(1682, 943)"
      ]
     },
     "execution_count": 224,
     "metadata": {},
     "output_type": "execute_result"
    },
    {
     "data": {
      "text/plain": [
       "(1682, 943)"
      ]
     },
     "execution_count": 224,
     "metadata": {},
     "output_type": "execute_result"
    }
   ],
   "source": [
    "Y.shape\n",
    "R.shape"
   ]
  },
  {
   "cell_type": "markdown",
   "metadata": {},
   "source": [
    "- Y is a 1682 x 943 matrix, containing ratings (1 - 5) of 1682 movies on 943 users  \n",
    "- R is a 1682 x 943 matrix, where R(i,j) = 1 if and only if user j gave a rating to movie i"
   ]
  },
  {
   "cell_type": "code",
   "execution_count": 249,
   "metadata": {},
   "outputs": [
    {
     "name": "stdout",
     "output_type": "stream",
     "text": [
      "Average rating for movie 1 (Toy Story): 3.878319/5\n"
     ]
    }
   ],
   "source": [
    "print('Average rating for movie 1 (Toy Story): %f/5'%np.mean(Y[0, np.where(R[0, :]==1)]))"
   ]
  },
  {
   "cell_type": "code",
   "execution_count": 267,
   "metadata": {},
   "outputs": [
    {
     "data": {
      "text/plain": [
       "<Figure size 864x432 with 0 Axes>"
      ]
     },
     "execution_count": 267,
     "metadata": {},
     "output_type": "execute_result"
    },
    {
     "data": {
      "text/plain": [
       "<matplotlib.image.AxesImage at 0x1a17ebe5f8>"
      ]
     },
     "execution_count": 267,
     "metadata": {},
     "output_type": "execute_result"
    },
    {
     "data": {
      "image/png": "[encoded data removed]",
      "text/plain": [
       "<Figure size 864x432 with 1 Axes>"
      ]
     },
     "metadata": {
      "needs_background": "light"
     },
     "output_type": "display_data"
    }
   ],
   "source": [
    "plt.figure(figsize=(12,6))\n",
    "plt.imshow(Y, extent=[0, Y.shape[1], Y.shape[0], 0])"
   ]
  },
  {
   "cell_type": "markdown",
   "metadata": {},
   "source": [
    "### 2.2 Collaborative filtering learning algorithm\n",
    "\n",
    "Now, you will start implementing the collaborative filtering learning algorithm. You will start by implementing the cost function (without regularization). The collaborative filtering algorithm in the setting of movie recommendations considers a set of $n$-dimensional parameter vectors $x^{(1)},\\ldots,x^{(n_m)}$ and $\\theta^{(1)},\\ldots, \\theta^{(n_u)}$, where the model predicts the rating for movie $i$ by user $j$ as $y^{(i,j)} = (\\theta^{(j)})^T x^{(i)}$. Given a dataset that consists of a set of ratings produced by some users on some movies, you wish to learn the parameter vectors $x^{(1)},\\ldots,x^{(n_m)},\\;\\theta^{(1)},\\ldots,\\theta^{(n_u)}$ that produce the best fit (minimizes the squared error).\n",
    "    You will complete the code in cofiCostFunc to compute the cost function and gradient for collaborative filtering.\n",
    "    \n",
    "#### 2.2.1 Collaborative filtering cost function\n",
    "The collaborative filtering cost function (without regularization) is given by  \n",
    "<center>$J\\left(x^{(i)},\\ldots,x^{(n_m)},\\;\\theta^{(1)},\\ldots,\\theta^{(n_u)}\\right)\n",
    "=\\frac{1}{2}\\sum_{(i,j):r(i,j)=1}\\left((\\theta^{(j)})^Tx^{(i)}-y^{(i,j)}\\right)^2$</center>\n",
    "\n",
    "You should now modify cofiCostFunc.m to return this cost in the variable J. Note that you should be accumulating the cost for user $i$ and movie $j$ only if $R(i,j) = 1$. After you have completed the function, the code below will run your cost function. You should expect to see an output of 22.22."
   ]
  },
  {
   "cell_type": "code",
   "execution_count": 336,
   "metadata": {},
   "outputs": [],
   "source": [
    "def cofiCostFunc1(params, **kwargs):\n",
    "    Y = kwargs[\"Y\"]\n",
    "    R = kwargs[\"R\"]\n",
    "    num_users = kwargs[\"num_users\"]\n",
    "    num_movies = kwargs[\"num_movies\"]\n",
    "    num_features = kwargs[\"num_features\"]\n",
    "    reg = kwargs[\"reg\"]\n",
    "    \n",
    "    X = params[:num_movies*num_features].reshape(num_movies, num_features)\n",
    "    Theta = params[num_movies*num_features:].reshape(num_users, num_features)\n",
    "    J = 1/2 * sum(sum((R* ((X.dot(Theta.T) - Y))**2)))\n",
    "    return J"
   ]
  },
  {
   "cell_type": "code",
   "execution_count": 337,
   "metadata": {},
   "outputs": [],
   "source": [
    "mat = scipy.io.loadmat('ex8_movieParams.mat')\n",
    "X = mat['X']\n",
    "Theta = mat['Theta']"
   ]
  },
  {
   "cell_type": "code",
   "execution_count": 340,
   "metadata": {},
   "outputs": [
    {
     "name": "stdout",
     "output_type": "stream",
     "text": [
      "Cost at loaded parameters:  22.22460372568567\n"
     ]
    }
   ],
   "source": [
    "num_users = 4\n",
    "num_movies = 5\n",
    "num_features = 3\n",
    "X = X[:num_movies, :num_features]\n",
    "Theta = Theta[:num_users, :num_features]\n",
    "Y = Y[:num_movies, :num_users]\n",
    "R = R[:num_movies, :num_users]\n",
    "params = np.concatenate([X.flatten(), Theta.flatten()])\n",
    "\n",
    "kwargs = {\"Y\":Y, \"R\":R, \"num_users\":num_users, \"num_movies\":num_movies, \"num_features\":num_features, \"reg\":0}\n",
    "J = cofiCostFunc1(params, **kwargs)\n",
    "print('Cost at loaded parameters: ',J)"
   ]
  },
  {
   "cell_type": "markdown",
   "metadata": {},
   "source": [
    "#### 2.2.2 Collaborative filtering gradient\n",
    "Now, you should implement the gradient (without regularization). Specically, you should complete the code in cofiCostFunc.m to return the variables X_grad and Theta_grad. Note that X_grad should be a matrix of the same size as X and similarly, Theta_grad is a matrix of the same size as Theta. The gradients of the cost function is given by:  \n",
    "<center>$\\frac{\\partial J}{\\partial x_k^{(i)}} \n",
    "= \\sum_{j:r(i,j)=1}\\left((\\theta^{(j)})^T x^{(i)} -y^{(i,j)}\\right)\\theta_k^{(j)}$</center>\n",
    "<center>$\\frac{\\partial J}{\\partial \\theta_k^{(j)}} = \\sum_{i:r(i,j)=1}\\left((\\theta^{(j)})^T x^{(i)} -y^{(i,j)}\\right) x_k^{(i)}$</center>"
   ]
  },
  {
   "cell_type": "code",
   "execution_count": 342,
   "metadata": {},
   "outputs": [],
   "source": [
    "def cofiCostFunc2(params, **kwargs):\n",
    "    Y = kwargs[\"Y\"]\n",
    "    R = kwargs[\"R\"]\n",
    "    num_users = kwargs[\"num_users\"]\n",
    "    num_movies = kwargs[\"num_movies\"]\n",
    "    num_features = kwargs[\"num_features\"]\n",
    "    reg = kwargs[\"reg\"]\n",
    "    \n",
    "    X = params[:num_movies*num_features].reshape(num_movies, num_features)\n",
    "    Theta = params[num_movies*num_features:].reshape(num_users, num_features)\n",
    "    J = 1/2 * sum(sum((R* ((X.dot(Theta.T) - Y))**2)))\n",
    "    X_grad = (R * (X.dot(Theta.T) - Y)).dot(Theta)\n",
    "    Theta_grad = (R * (X.dot(Theta.T) - Y)).T.dot(X)\n",
    "    grad = np.concatenate([X_grad.flatten(), Theta_grad.flatten()])\n",
    "    return J, grad"
   ]
  },
  {
   "cell_type": "code",
   "execution_count": 343,
   "metadata": {},
   "outputs": [],
   "source": [
    "kwargs = {\"Y\":Y, \"R\":R, \"num_users\":num_users, \"num_movies\":num_movies, \"num_features\":num_features, \"reg\":0}\n",
    "J, grad = cofiCostFunc2(params, **kwargs)"
   ]
  },
  {
   "cell_type": "code",
   "execution_count": 344,
   "metadata": {},
   "outputs": [
    {
     "data": {
      "text/plain": [
       "array([-2.52899165,  7.57570308, -1.89979026, -0.56819597,  3.35265031])"
      ]
     },
     "execution_count": 344,
     "metadata": {},
     "output_type": "execute_result"
    }
   ],
   "source": [
    "grad[:5]"
   ]
  },
  {
   "cell_type": "code",
   "execution_count": 345,
   "metadata": {},
   "outputs": [
    {
     "data": {
      "text/plain": [
       "array([-2.52899165,  7.57570308, -1.89979026, -0.56819597,  3.35265031])"
      ]
     },
     "execution_count": 345,
     "metadata": {},
     "output_type": "execute_result"
    }
   ],
   "source": [
    "def computeNumericalGradient(J, theta):\n",
    "    numgrad = np.zeros(theta.shape) \n",
    "    perturb = np.zeros(theta.shape) \n",
    "    e = 1e-4 \n",
    "    # Check the first 5 grads\n",
    "    for p in range(5):\n",
    "        # Set perturbation vector\n",
    "        perturb[p] = e\n",
    "        loss1 = J(theta - perturb, **kwargs) \n",
    "        loss2 = J(theta + perturb, **kwargs) \n",
    "        # Compute Numerical Gradient\n",
    "        numgrad[p] = (loss2 - loss1) / (2*e) \n",
    "        perturb[p] = 0\n",
    "    return numgrad\n",
    "\n",
    "kwargs = {\"Y\":Y, \"R\":R, \"num_users\":num_users, \"num_movies\":num_movies, \"num_features\":num_features, \"reg\":0}\n",
    "numeric_grad = computeNumericalGradient(cofiCostFunc1, params)\n",
    "numeric_grad[:5]"
   ]
  },
  {
   "cell_type": "markdown",
   "metadata": {},
   "source": [
    "#### 2.2.4 Regularized gradient\n",
    "<center>$\\frac{\\partial J}{\\partial x_k^{(i)}} \n",
    "= \\sum_{j:r(i,j)=1}\\left((\\theta^{(j)})^T x^{(i)} -y^{(i,j)}\\right)\\theta_k^{(j)}+\\lambda x_k^{(i)}$</center>\n",
    "<center>$\\frac{\\partial J}{\\partial \\theta_k^{(j)}} = \\sum_{i:r(i,j)=1}\\left((\\theta^{(j)})^T x^{(i)} -y^{(i,j)}\\right) x_k^{(i)}+\\lambda\\theta_k^{(j)}$</center>"
   ]
  },
  {
   "cell_type": "code",
   "execution_count": 410,
   "metadata": {},
   "outputs": [],
   "source": [
    "def cofiCostFunc1(params, **kwargs):\n",
    "    Y = kwargs[\"Y\"]\n",
    "    R = kwargs[\"R\"]\n",
    "    num_users = kwargs[\"num_users\"]\n",
    "    num_movies = kwargs[\"num_movies\"]\n",
    "    num_features = kwargs[\"num_features\"]\n",
    "    reg = kwargs[\"reg\"]\n",
    "    \n",
    "    X = params[:num_movies*num_features].reshape(num_movies, num_features)\n",
    "    Theta = params[num_movies*num_features:].reshape(num_users, num_features)\n",
    "    J = 1/2 * sum(sum((R* ((X.dot(Theta.T) - Y))**2)))\n",
    "    J += reg/2 * (sum(sum(Theta**2)) + sum(sum(X**2)))\n",
    "    return J\n",
    "\n",
    "def cofiCostFunc3(params, **kwargs):\n",
    "    Y = kwargs[\"Y\"]\n",
    "    R = kwargs[\"R\"]\n",
    "    num_users = kwargs[\"num_users\"]\n",
    "    num_movies = kwargs[\"num_movies\"]\n",
    "    num_features = kwargs[\"num_features\"]\n",
    "    reg = kwargs[\"reg\"]\n",
    "    \n",
    "    X = params[:num_movies*num_features].reshape(num_movies, num_features)\n",
    "    Theta = params[num_movies*num_features:].reshape(num_users, num_features)\n",
    "    J = 1/2 * sum(sum((R* ((X.dot(Theta.T) - Y))**2)))\n",
    "    X_grad = (R * (X.dot(Theta.T) - Y)).dot(Theta)\n",
    "    Theta_grad = (R * (X.dot(Theta.T) - Y)).T.dot(X)\n",
    "    \n",
    "    \n",
    "    J += reg/2 * (sum(sum(Theta**2)) + sum(sum(X**2)))\n",
    "    X_grad += reg * X\n",
    "    Theta_grad += reg * Theta\n",
    "    grad = np.concatenate([X_grad.flatten(), Theta_grad.flatten()])\n",
    "    return J, grad"
   ]
  },
  {
   "cell_type": "code",
   "execution_count": 347,
   "metadata": {},
   "outputs": [
    {
     "data": {
      "text/plain": [
       "array([-0.95596339,  6.97535514, -0.10861109,  0.60308088,  2.77421145])"
      ]
     },
     "execution_count": 347,
     "metadata": {},
     "output_type": "execute_result"
    }
   ],
   "source": [
    "kwargs = {\"Y\":Y, \"R\":R, \"num_users\":num_users, \"num_movies\":num_movies, \"num_features\":num_features, \"reg\":1.5}\n",
    "J, grad = cofiCostFunc3(params, **kwargs)\n",
    "grad[:5]"
   ]
  },
  {
   "cell_type": "code",
   "execution_count": 348,
   "metadata": {},
   "outputs": [
    {
     "data": {
      "text/plain": [
       "array([-0.95596339,  6.97535514, -0.10861109,  0.60308088,  2.77421145])"
      ]
     },
     "execution_count": 348,
     "metadata": {},
     "output_type": "execute_result"
    }
   ],
   "source": [
    "numeric_grad = computeNumericalGradient(cofiCostFunc1, params)\n",
    "numeric_grad[:5]"
   ]
  },
  {
   "cell_type": "markdown",
   "metadata": {},
   "source": [
    "### 2.3 Learning movie recommendations\n",
    "After you have finished implementing the collaborative ltering cost function and gradient, you can now start training your algorithm to make movie recommendations for yourself. In the code below, you can enter your own movie preferences, so that later when the algorithm runs, you can get your own movie recommendations! We have filled out some values according to our own preferences, but you should change this according to your own tastes. The list of all movies and their number in the dataset can be found listed in the file movie idx.txt."
   ]
  },
  {
   "cell_type": "code",
   "execution_count": 374,
   "metadata": {
    "scrolled": true
   },
   "outputs": [],
   "source": [
    "movieList = list(pd.read_csv('movie_ids.txt', header=None, sep='\\t', encoding = \"latin\").iloc[:,0].values)"
   ]
  },
  {
   "cell_type": "code",
   "execution_count": 380,
   "metadata": {},
   "outputs": [
    {
     "data": {
      "text/plain": [
       "['1 Toy Story (1995)',\n",
       " '2 GoldenEye (1995)',\n",
       " '3 Four Rooms (1995)',\n",
       " '4 Get Shorty (1995)',\n",
       " '5 Copycat (1995)',\n",
       " '6 Shanghai Triad (Yao a yao yao dao waipo qiao) (1995)',\n",
       " '7 Twelve Monkeys (1995)',\n",
       " '8 Babe (1995)',\n",
       " '9 Dead Man Walking (1995)',\n",
       " '10 Richard III (1995)',\n",
       " '11 Seven (Se7en) (1995)',\n",
       " '12 Usual Suspects, The (1995)',\n",
       " '13 Mighty Aphrodite (1995)',\n",
       " '14 Postino, Il (1994)',\n",
       " \"15 Mr. Holland's Opus (1995)\",\n",
       " '16 French Twist (Gazon maudit) (1995)',\n",
       " '17 From Dusk Till Dawn (1996)',\n",
       " '18 White Balloon, The (1995)',\n",
       " \"19 Antonia's Line (1995)\",\n",
       " '20 Angels and Insects (1995)',\n",
       " '21 Muppet Treasure Island (1996)',\n",
       " '22 Braveheart (1995)',\n",
       " '23 Taxi Driver (1976)',\n",
       " '24 Rumble in the Bronx (1995)',\n",
       " '25 Birdcage, The (1996)',\n",
       " '26 Brothers McMullen, The (1995)',\n",
       " '27 Bad Boys (1995)',\n",
       " '28 Apollo 13 (1995)',\n",
       " '29 Batman Forever (1995)',\n",
       " '30 Belle de jour (1967)',\n",
       " '31 Crimson Tide (1995)',\n",
       " '32 Crumb (1994)',\n",
       " '33 Desperado (1995)',\n",
       " '34 Doom Generation, The (1995)',\n",
       " '35 Free Willy 2: The Adventure Home (1995)',\n",
       " '36 Mad Love (1995)',\n",
       " '37 Nadja (1994)',\n",
       " '38 Net, The (1995)',\n",
       " '39 Strange Days (1995)',\n",
       " '40 To Wong Foo, Thanks for Everything! Julie Newmar (1995)',\n",
       " '41 Billy Madison (1995)',\n",
       " '42 Clerks (1994)',\n",
       " '43 Disclosure (1994)',\n",
       " '44 Dolores Claiborne (1994)',\n",
       " '45 Eat Drink Man Woman (1994)',\n",
       " '46 Exotica (1994)',\n",
       " '47 Ed Wood (1994)',\n",
       " '48 Hoop Dreams (1994)',\n",
       " '49 I.Q. (1994)',\n",
       " '50 Star Wars (1977)',\n",
       " '51 Legends of the Fall (1994)',\n",
       " '52 Madness of King George, The (1994)',\n",
       " '53 Natural Born Killers (1994)',\n",
       " '54 Outbreak (1995)',\n",
       " '55 Professional, The (1994)',\n",
       " '56 Pulp Fiction (1994)',\n",
       " '57 Priest (1994)',\n",
       " '58 Quiz Show (1994)',\n",
       " '59 Three Colors: Red (1994)',\n",
       " '60 Three Colors: Blue (1993)',\n",
       " '61 Three Colors: White (1994)',\n",
       " '62 Stargate (1994)',\n",
       " '63 Santa Clause, The (1994)',\n",
       " '64 Shawshank Redemption, The (1994)',\n",
       " \"65 What's Eating Gilbert Grape (1993)\",\n",
       " '66 While You Were Sleeping (1995)',\n",
       " '67 Ace Ventura: Pet Detective (1994)',\n",
       " '68 Crow, The (1994)',\n",
       " '69 Forrest Gump (1994)',\n",
       " '70 Four Weddings and a Funeral (1994)',\n",
       " '71 Lion King, The (1994)',\n",
       " '72 Mask, The (1994)',\n",
       " '73 Maverick (1994)',\n",
       " '74 Faster Pussycat! Kill! Kill! (1965)',\n",
       " '75 Brother Minister: The Assassination of Malcolm X (1994)',\n",
       " \"76 Carlito's Way (1993)\",\n",
       " '77 Firm, The (1993)',\n",
       " '78 Free Willy (1993)',\n",
       " '79 Fugitive, The (1993)',\n",
       " '80 Hot Shots! Part Deux (1993)',\n",
       " '81 Hudsucker Proxy, The (1994)',\n",
       " '82 Jurassic Park (1993)',\n",
       " '83 Much Ado About Nothing (1993)',\n",
       " \"84 Robert A. Heinlein's The Puppet Masters (1994)\",\n",
       " '85 Ref, The (1994)',\n",
       " '86 Remains of the Day, The (1993)',\n",
       " '87 Searching for Bobby Fischer (1993)',\n",
       " '88 Sleepless in Seattle (1993)',\n",
       " '89 Blade Runner (1982)',\n",
       " '90 So I Married an Axe Murderer (1993)',\n",
       " '91 Nightmare Before Christmas, The (1993)',\n",
       " '92 True Romance (1993)',\n",
       " '93 Welcome to the Dollhouse (1995)',\n",
       " '94 Home Alone (1990)',\n",
       " '95 Aladdin (1992)',\n",
       " '96 Terminator 2: Judgment Day (1991)',\n",
       " '97 Dances with Wolves (1990)',\n",
       " '98 Silence of the Lambs, The (1991)',\n",
       " '99 Snow White and the Seven Dwarfs (1937)',\n",
       " '100 Fargo (1996)',\n",
       " '101 Heavy Metal (1981)',\n",
       " '102 Aristocats, The (1970)',\n",
       " '103 All Dogs Go to Heaven 2 (1996)',\n",
       " '104 Theodore Rex (1995)',\n",
       " '105 Sgt. Bilko (1996)',\n",
       " '106 Diabolique (1996)',\n",
       " '107 Moll Flanders (1996)',\n",
       " '108 Kids in the Hall: Brain Candy (1996)',\n",
       " '109 Mystery Science Theater 3000: The Movie (1996)',\n",
       " '110 Operation Dumbo Drop (1995)',\n",
       " '111 Truth About Cats & Dogs, The (1996)',\n",
       " '112 Flipper (1996)',\n",
       " '113 Horseman on the Roof, The (Hussard sur le toit, Le) (1995)',\n",
       " '114 Wallace & Gromit: The Best of Aardman Animation (1996)',\n",
       " '115 Haunted World of Edward D. Wood Jr., The (1995)',\n",
       " '116 Cold Comfort Farm (1995)',\n",
       " '117 Rock, The (1996)',\n",
       " '118 Twister (1996)',\n",
       " '119 Maya Lin: A Strong Clear Vision (1994)',\n",
       " '120 Striptease (1996)',\n",
       " '121 Independence Day (ID4) (1996)',\n",
       " '122 Cable Guy, The (1996)',\n",
       " '123 Frighteners, The (1996)',\n",
       " '124 Lone Star (1996)',\n",
       " '125 Phenomenon (1996)',\n",
       " '126 Spitfire Grill, The (1996)',\n",
       " '127 Godfather, The (1972)',\n",
       " '128 Supercop (1992)',\n",
       " '129 Bound (1996)',\n",
       " '130 Kansas City (1996)',\n",
       " \"131 Breakfast at Tiffany's (1961)\",\n",
       " '132 Wizard of Oz, The (1939)',\n",
       " '133 Gone with the Wind (1939)',\n",
       " '134 Citizen Kane (1941)',\n",
       " '135 2001: A Space Odyssey (1968)',\n",
       " '136 Mr. Smith Goes to Washington (1939)',\n",
       " '137 Big Night (1996)',\n",
       " '138 D3: The Mighty Ducks (1996)',\n",
       " '139 Love Bug, The (1969)',\n",
       " '140 Homeward Bound: The Incredible Journey (1993)',\n",
       " '141 20,000 Leagues Under the Sea (1954)',\n",
       " '142 Bedknobs and Broomsticks (1971)',\n",
       " '143 Sound of Music, The (1965)',\n",
       " '144 Die Hard (1988)',\n",
       " '145 Lawnmower Man, The (1992)',\n",
       " '146 Unhook the Stars (1996)',\n",
       " '147 Long Kiss Goodnight, The (1996)',\n",
       " '148 Ghost and the Darkness, The (1996)',\n",
       " '149 Jude (1996)',\n",
       " '150 Swingers (1996)',\n",
       " '151 Willy Wonka and the Chocolate Factory (1971)',\n",
       " '152 Sleeper (1973)',\n",
       " '153 Fish Called Wanda, A (1988)',\n",
       " \"154 Monty Python's Life of Brian (1979)\",\n",
       " '155 Dirty Dancing (1987)',\n",
       " '156 Reservoir Dogs (1992)',\n",
       " '157 Platoon (1986)',\n",
       " \"158 Weekend at Bernie's (1989)\",\n",
       " '159 Basic Instinct (1992)',\n",
       " '160 Glengarry Glen Ross (1992)',\n",
       " '161 Top Gun (1986)',\n",
       " '162 On Golden Pond (1981)',\n",
       " '163 Return of the Pink Panther, The (1974)',\n",
       " '164 Abyss, The (1989)',\n",
       " '165 Jean de Florette (1986)',\n",
       " '166 Manon of the Spring (Manon des sources) (1986)',\n",
       " '167 Private Benjamin (1980)',\n",
       " '168 Monty Python and the Holy Grail (1974)',\n",
       " '169 Wrong Trousers, The (1993)',\n",
       " '170 Cinema Paradiso (1988)',\n",
       " '171 Delicatessen (1991)',\n",
       " '172 Empire Strikes Back, The (1980)',\n",
       " '173 Princess Bride, The (1987)',\n",
       " '174 Raiders of the Lost Ark (1981)',\n",
       " '175 Brazil (1985)',\n",
       " '176 Aliens (1986)',\n",
       " '177 Good, The Bad and The Ugly, The (1966)',\n",
       " '178 12 Angry Men (1957)',\n",
       " '179 Clockwork Orange, A (1971)',\n",
       " '180 Apocalypse Now (1979)',\n",
       " '181 Return of the Jedi (1983)',\n",
       " '182 GoodFellas (1990)',\n",
       " '183 Alien (1979)',\n",
       " '184 Army of Darkness (1993)',\n",
       " '185 Psycho (1960)',\n",
       " '186 Blues Brothers, The (1980)',\n",
       " '187 Godfather: Part II, The (1974)',\n",
       " '188 Full Metal Jacket (1987)',\n",
       " '189 Grand Day Out, A (1992)',\n",
       " '190 Henry V (1989)',\n",
       " '191 Amadeus (1984)',\n",
       " '192 Raging Bull (1980)',\n",
       " '193 Right Stuff, The (1983)',\n",
       " '194 Sting, The (1973)',\n",
       " '195 Terminator, The (1984)',\n",
       " '196 Dead Poets Society (1989)',\n",
       " '197 Graduate, The (1967)',\n",
       " '198 Nikita (La Femme Nikita) (1990)',\n",
       " '199 Bridge on the River Kwai, The (1957)',\n",
       " '200 Shining, The (1980)',\n",
       " '201 Evil Dead II (1987)',\n",
       " '202 Groundhog Day (1993)',\n",
       " '203 Unforgiven (1992)',\n",
       " '204 Back to the Future (1985)',\n",
       " '205 Patton (1970)',\n",
       " '206 Akira (1988)',\n",
       " '207 Cyrano de Bergerac (1990)',\n",
       " '208 Young Frankenstein (1974)',\n",
       " '209 This Is Spinal Tap (1984)',\n",
       " '210 Indiana Jones and the Last Crusade (1989)',\n",
       " '211 M*A*S*H (1970)',\n",
       " '212 Unbearable Lightness of Being, The (1988)',\n",
       " '213 Room with a View, A (1986)',\n",
       " '214 Pink Floyd - The Wall (1982)',\n",
       " '215 Field of Dreams (1989)',\n",
       " '216 When Harry Met Sally... (1989)',\n",
       " \"217 Bram Stoker's Dracula (1992)\",\n",
       " '218 Cape Fear (1991)',\n",
       " '219 Nightmare on Elm Street, A (1984)',\n",
       " '220 Mirror Has Two Faces, The (1996)',\n",
       " '221 Breaking the Waves (1996)',\n",
       " '222 Star Trek: First Contact (1996)',\n",
       " '223 Sling Blade (1996)',\n",
       " '224 Ridicule (1996)',\n",
       " '225 101 Dalmatians (1996)',\n",
       " '226 Die Hard 2 (1990)',\n",
       " '227 Star Trek VI: The Undiscovered Country (1991)',\n",
       " '228 Star Trek: The Wrath of Khan (1982)',\n",
       " '229 Star Trek III: The Search for Spock (1984)',\n",
       " '230 Star Trek IV: The Voyage Home (1986)',\n",
       " '231 Batman Returns (1992)',\n",
       " '232 Young Guns (1988)',\n",
       " '233 Under Siege (1992)',\n",
       " '234 Jaws (1975)',\n",
       " '235 Mars Attacks! (1996)',\n",
       " '236 Citizen Ruth (1996)',\n",
       " '237 Jerry Maguire (1996)',\n",
       " '238 Raising Arizona (1987)',\n",
       " '239 Sneakers (1992)',\n",
       " '240 Beavis and Butt-head Do America (1996)',\n",
       " '241 Last of the Mohicans, The (1992)',\n",
       " '242 Kolya (1996)',\n",
       " '243 Jungle2Jungle (1997)',\n",
       " \"244 Smilla's Sense of Snow (1997)\",\n",
       " \"245 Devil's Own, The (1997)\",\n",
       " '246 Chasing Amy (1997)',\n",
       " '247 Turbo: A Power Rangers Movie (1997)',\n",
       " '248 Grosse Pointe Blank (1997)',\n",
       " '249 Austin Powers: International Man of Mystery (1997)',\n",
       " '250 Fifth Element, The (1997)',\n",
       " '251 Shall We Dance? (1996)',\n",
       " '252 Lost World: Jurassic Park, The (1997)',\n",
       " '253 Pillow Book, The (1995)',\n",
       " '254 Batman & Robin (1997)',\n",
       " \"255 My Best Friend's Wedding (1997)\",\n",
       " '256 When the Cats Away (Chacun cherche son chat) (1996)',\n",
       " '257 Men in Black (1997)',\n",
       " '258 Contact (1997)',\n",
       " '259 George of the Jungle (1997)',\n",
       " '260 Event Horizon (1997)',\n",
       " '261 Air Bud (1997)',\n",
       " '262 In the Company of Men (1997)',\n",
       " '263 Steel (1997)',\n",
       " '264 Mimic (1997)',\n",
       " '265 Hunt for Red October, The (1990)',\n",
       " '266 Kull the Conqueror (1997)',\n",
       " '267 unknown',\n",
       " '268 Chasing Amy (1997)',\n",
       " '269 Full Monty, The (1997)',\n",
       " '270 Gattaca (1997)',\n",
       " '271 Starship Troopers (1997)',\n",
       " '272 Good Will Hunting (1997)',\n",
       " '273 Heat (1995)',\n",
       " '274 Sabrina (1995)',\n",
       " '275 Sense and Sensibility (1995)',\n",
       " '276 Leaving Las Vegas (1995)',\n",
       " '277 Restoration (1995)',\n",
       " '278 Bed of Roses (1996)',\n",
       " '279 Once Upon a Time... When We Were Colored (1995)',\n",
       " '280 Up Close and Personal (1996)',\n",
       " '281 River Wild, The (1994)',\n",
       " '282 Time to Kill, A (1996)',\n",
       " '283 Emma (1996)',\n",
       " '284 Tin Cup (1996)',\n",
       " '285 Secrets & Lies (1996)',\n",
       " '286 English Patient, The (1996)',\n",
       " \"287 Marvin's Room (1996)\",\n",
       " '288 Scream (1996)',\n",
       " '289 Evita (1996)',\n",
       " '290 Fierce Creatures (1997)',\n",
       " '291 Absolute Power (1997)',\n",
       " '292 Rosewood (1997)',\n",
       " '293 Donnie Brasco (1997)',\n",
       " '294 Liar Liar (1997)',\n",
       " '295 Breakdown (1997)',\n",
       " '296 Promesse, La (1996)',\n",
       " \"297 Ulee's Gold (1997)\",\n",
       " '298 Face/Off (1997)',\n",
       " '299 Hoodlum (1997)',\n",
       " '300 Air Force One (1997)',\n",
       " '301 In & Out (1997)',\n",
       " '302 L.A. Confidential (1997)',\n",
       " \"303 Ulee's Gold (1997)\",\n",
       " '304 Fly Away Home (1996)',\n",
       " '305 Ice Storm, The (1997)',\n",
       " '306 Mrs. Brown (Her Majesty, Mrs. Brown) (1997)',\n",
       " \"307 Devil's Advocate, The (1997)\",\n",
       " '308 FairyTale: A True Story (1997)',\n",
       " '309 Deceiver (1997)',\n",
       " '310 Rainmaker, The (1997)',\n",
       " '311 Wings of the Dove, The (1997)',\n",
       " '312 Midnight in the Garden of Good and Evil (1997)',\n",
       " '313 Titanic (1997)',\n",
       " '314 3 Ninjas: High Noon At Mega Mountain (1998)',\n",
       " '315 Apt Pupil (1998)',\n",
       " '316 As Good As It Gets (1997)',\n",
       " '317 In the Name of the Father (1993)',\n",
       " \"318 Schindler's List (1993)\",\n",
       " '319 Everyone Says I Love You (1996)',\n",
       " '320 Paradise Lost: The Child Murders at Robin Hood Hills (1996)',\n",
       " '321 Mother (1996)',\n",
       " '322 Murder at 1600 (1997)',\n",
       " \"323 Dante's Peak (1997)\",\n",
       " '324 Lost Highway (1997)',\n",
       " '325 Crash (1996)',\n",
       " '326 G.I. Jane (1997)',\n",
       " '327 Cop Land (1997)',\n",
       " '328 Conspiracy Theory (1997)',\n",
       " '329 Desperate Measures (1998)',\n",
       " '330 187 (1997)',\n",
       " '331 Edge, The (1997)',\n",
       " '332 Kiss the Girls (1997)',\n",
       " '333 Game, The (1997)',\n",
       " '334 U Turn (1997)',\n",
       " '335 How to Be a Player (1997)',\n",
       " '336 Playing God (1997)',\n",
       " '337 House of Yes, The (1997)',\n",
       " '338 Bean (1997)',\n",
       " '339 Mad City (1997)',\n",
       " '340 Boogie Nights (1997)',\n",
       " '341 Critical Care (1997)',\n",
       " '342 Man Who Knew Too Little, The (1997)',\n",
       " '343 Alien: Resurrection (1997)',\n",
       " '344 Apostle, The (1997)',\n",
       " '345 Deconstructing Harry (1997)',\n",
       " '346 Jackie Brown (1997)',\n",
       " '347 Wag the Dog (1997)',\n",
       " '348 Desperate Measures (1998)',\n",
       " '349 Hard Rain (1998)',\n",
       " '350 Fallen (1998)',\n",
       " '351 Prophecy II, The (1998)',\n",
       " '352 Spice World (1997)',\n",
       " '353 Deep Rising (1998)',\n",
       " '354 Wedding Singer, The (1998)',\n",
       " '355 Sphere (1998)',\n",
       " '356 Client, The (1994)',\n",
       " \"357 One Flew Over the Cuckoo's Nest (1975)\",\n",
       " '358 Spawn (1997)',\n",
       " '359 Assignment, The (1997)',\n",
       " '360 Wonderland (1997)',\n",
       " '361 Incognito (1997)',\n",
       " '362 Blues Brothers 2000 (1998)',\n",
       " '363 Sudden Death (1995)',\n",
       " '364 Ace Ventura: When Nature Calls (1995)',\n",
       " '365 Powder (1995)',\n",
       " '366 Dangerous Minds (1995)',\n",
       " '367 Clueless (1995)',\n",
       " '368 Bio-Dome (1996)',\n",
       " '369 Black Sheep (1996)',\n",
       " '370 Mary Reilly (1996)',\n",
       " '371 Bridges of Madison County, The (1995)',\n",
       " '372 Jeffrey (1995)',\n",
       " '373 Judge Dredd (1995)',\n",
       " '374 Mighty Morphin Power Rangers: The Movie (1995)',\n",
       " '375 Showgirls (1995)',\n",
       " '376 Houseguest (1994)',\n",
       " '377 Heavyweights (1994)',\n",
       " '378 Miracle on 34th Street (1994)',\n",
       " '379 Tales From the Crypt Presents: Demon Knight (1995)',\n",
       " '380 Star Trek: Generations (1994)',\n",
       " \"381 Muriel's Wedding (1994)\",\n",
       " '382 Adventures of Priscilla, Queen of the Desert, The (1994)',\n",
       " '383 Flintstones, The (1994)',\n",
       " '384 Naked Gun 33 1/3: The Final Insult (1994)',\n",
       " '385 True Lies (1994)',\n",
       " '386 Addams Family Values (1993)',\n",
       " '387 Age of Innocence, The (1993)',\n",
       " '388 Beverly Hills Cop III (1994)',\n",
       " '389 Black Beauty (1994)',\n",
       " '390 Fear of a Black Hat (1993)',\n",
       " '391 Last Action Hero (1993)',\n",
       " '392 Man Without a Face, The (1993)',\n",
       " '393 Mrs. Doubtfire (1993)',\n",
       " '394 Radioland Murders (1994)',\n",
       " '395 Robin Hood: Men in Tights (1993)',\n",
       " '396 Serial Mom (1994)',\n",
       " '397 Striking Distance (1993)',\n",
       " '398 Super Mario Bros. (1993)',\n",
       " '399 Three Musketeers, The (1993)',\n",
       " '400 Little Rascals, The (1994)',\n",
       " '401 Brady Bunch Movie, The (1995)',\n",
       " '402 Ghost (1990)',\n",
       " '403 Batman (1989)',\n",
       " '404 Pinocchio (1940)',\n",
       " '405 Mission: Impossible (1996)',\n",
       " '406 Thinner (1996)',\n",
       " '407 Spy Hard (1996)',\n",
       " '408 Close Shave, A (1995)',\n",
       " '409 Jack (1996)',\n",
       " '410 Kingpin (1996)',\n",
       " '411 Nutty Professor, The (1996)',\n",
       " '412 Very Brady Sequel, A (1996)',\n",
       " '413 Tales from the Crypt Presents: Bordello of Blood (1996)',\n",
       " '414 My Favorite Year (1982)',\n",
       " '415 Apple Dumpling Gang, The (1975)',\n",
       " '416 Old Yeller (1957)',\n",
       " '417 Parent Trap, The (1961)',\n",
       " '418 Cinderella (1950)',\n",
       " '419 Mary Poppins (1964)',\n",
       " '420 Alice in Wonderland (1951)',\n",
       " \"421 William Shakespeare's Romeo and Juliet (1996)\",\n",
       " '422 Aladdin and the King of Thieves (1996)',\n",
       " '423 E.T. the Extra-Terrestrial (1982)',\n",
       " '424 Children of the Corn: The Gathering (1996)',\n",
       " '425 Bob Roberts (1992)',\n",
       " '426 Transformers: The Movie, The (1986)',\n",
       " '427 To Kill a Mockingbird (1962)',\n",
       " '428 Harold and Maude (1971)',\n",
       " '429 Day the Earth Stood Still, The (1951)',\n",
       " '430 Duck Soup (1933)',\n",
       " '431 Highlander (1986)',\n",
       " '432 Fantasia (1940)',\n",
       " '433 Heathers (1989)',\n",
       " '434 Forbidden Planet (1956)',\n",
       " '435 Butch Cassidy and the Sundance Kid (1969)',\n",
       " '436 American Werewolf in London, An (1981)',\n",
       " \"437 Amityville 1992: It's About Time (1992)\",\n",
       " '438 Amityville 3-D (1983)',\n",
       " '439 Amityville: A New Generation (1993)',\n",
       " '440 Amityville II: The Possession (1982)',\n",
       " '441 Amityville Horror, The (1979)',\n",
       " '442 Amityville Curse, The (1990)',\n",
       " '443 Birds, The (1963)',\n",
       " '444 Blob, The (1958)',\n",
       " '445 Body Snatcher, The (1945)',\n",
       " '446 Burnt Offerings (1976)',\n",
       " '447 Carrie (1976)',\n",
       " '448 Omen, The (1976)',\n",
       " '449 Star Trek: The Motion Picture (1979)',\n",
       " '450 Star Trek V: The Final Frontier (1989)',\n",
       " '451 Grease (1978)',\n",
       " '452 Jaws 2 (1978)',\n",
       " '453 Jaws 3-D (1983)',\n",
       " '454 Bastard Out of Carolina (1996)',\n",
       " \"455 Jackie Chan's First Strike (1996)\",\n",
       " '456 Beverly Hills Ninja (1997)',\n",
       " '457 Free Willy 3: The Rescue (1997)',\n",
       " '458 Nixon (1995)',\n",
       " '459 Cry, the Beloved Country (1995)',\n",
       " '460 Crossing Guard, The (1995)',\n",
       " '461 Smoke (1995)',\n",
       " '462 Like Water For Chocolate (Como agua para chocolate) (1992)',\n",
       " '463 Secret of Roan Inish, The (1994)',\n",
       " '464 Vanya on 42nd Street (1994)',\n",
       " '465 Jungle Book, The (1994)',\n",
       " '466 Red Rock West (1992)',\n",
       " '467 Bronx Tale, A (1993)',\n",
       " '468 Rudy (1993)',\n",
       " '469 Short Cuts (1993)',\n",
       " '470 Tombstone (1993)',\n",
       " '471 Courage Under Fire (1996)',\n",
       " '472 Dragonheart (1996)',\n",
       " '473 James and the Giant Peach (1996)',\n",
       " '474 Dr. Strangelove or: How I Learned to Stop Worrying and Love the Bomb (1963)',\n",
       " '475 Trainspotting (1996)',\n",
       " '476 First Wives Club, The (1996)',\n",
       " '477 Matilda (1996)',\n",
       " '478 Philadelphia Story, The (1940)',\n",
       " '479 Vertigo (1958)',\n",
       " '480 North by Northwest (1959)',\n",
       " '481 Apartment, The (1960)',\n",
       " '482 Some Like It Hot (1959)',\n",
       " '483 Casablanca (1942)',\n",
       " '484 Maltese Falcon, The (1941)',\n",
       " '485 My Fair Lady (1964)',\n",
       " '486 Sabrina (1954)',\n",
       " '487 Roman Holiday (1953)',\n",
       " '488 Sunset Blvd. (1950)',\n",
       " '489 Notorious (1946)',\n",
       " '490 To Catch a Thief (1955)',\n",
       " '491 Adventures of Robin Hood, The (1938)',\n",
       " '492 East of Eden (1955)',\n",
       " '493 Thin Man, The (1934)',\n",
       " '494 His Girl Friday (1940)',\n",
       " '495 Around the World in 80 Days (1956)',\n",
       " \"496 It's a Wonderful Life (1946)\",\n",
       " '497 Bringing Up Baby (1938)',\n",
       " '498 African Queen, The (1951)',\n",
       " '499 Cat on a Hot Tin Roof (1958)',\n",
       " '500 Fly Away Home (1996)',\n",
       " '501 Dumbo (1941)',\n",
       " '502 Bananas (1971)',\n",
       " '503 Candidate, The (1972)',\n",
       " '504 Bonnie and Clyde (1967)',\n",
       " '505 Dial M for Murder (1954)',\n",
       " '506 Rebel Without a Cause (1955)',\n",
       " '507 Streetcar Named Desire, A (1951)',\n",
       " '508 People vs. Larry Flynt, The (1996)',\n",
       " '509 My Left Foot (1989)',\n",
       " '510 Magnificent Seven, The (1954)',\n",
       " '511 Lawrence of Arabia (1962)',\n",
       " '512 Wings of Desire (1987)',\n",
       " '513 Third Man, The (1949)',\n",
       " '514 Annie Hall (1977)',\n",
       " '515 Boot, Das (1981)',\n",
       " '516 Local Hero (1983)',\n",
       " '517 Manhattan (1979)',\n",
       " \"518 Miller's Crossing (1990)\",\n",
       " '519 Treasure of the Sierra Madre, The (1948)',\n",
       " '520 Great Escape, The (1963)',\n",
       " '521 Deer Hunter, The (1978)',\n",
       " '522 Down by Law (1986)',\n",
       " '523 Cool Hand Luke (1967)',\n",
       " '524 Great Dictator, The (1940)',\n",
       " '525 Big Sleep, The (1946)',\n",
       " '526 Ben-Hur (1959)',\n",
       " '527 Gandhi (1982)',\n",
       " '528 Killing Fields, The (1984)',\n",
       " '529 My Life as a Dog (Mitt liv som hund) (1985)',\n",
       " '530 Man Who Would Be King, The (1975)',\n",
       " '531 Shine (1996)',\n",
       " '532 Kama Sutra: A Tale of Love (1996)',\n",
       " '533 Daytrippers, The (1996)',\n",
       " '534 Traveller (1997)',\n",
       " '535 Addicted to Love (1997)',\n",
       " '536 Ponette (1996)',\n",
       " '537 My Own Private Idaho (1991)',\n",
       " '538 Anastasia (1997)',\n",
       " '539 Mouse Hunt (1997)',\n",
       " '540 Money Train (1995)',\n",
       " '541 Mortal Kombat (1995)',\n",
       " '542 Pocahontas (1995)',\n",
       " '543 Misérables, Les (1995)',\n",
       " \"544 Things to Do in Denver when You're Dead (1995)\",\n",
       " '545 Vampire in Brooklyn (1995)',\n",
       " '546 Broken Arrow (1996)',\n",
       " \"547 Young Poisoner's Handbook, The (1995)\",\n",
       " '548 NeverEnding Story III, The (1994)',\n",
       " '549 Rob Roy (1995)',\n",
       " '550 Die Hard: With a Vengeance (1995)',\n",
       " '551 Lord of Illusions (1995)',\n",
       " '552 Species (1995)',\n",
       " '553 Walk in the Clouds, A (1995)',\n",
       " '554 Waterworld (1995)',\n",
       " \"555 White Man's Burden (1995)\",\n",
       " '556 Wild Bill (1995)',\n",
       " '557 Farinelli: il castrato (1994)',\n",
       " '558 Heavenly Creatures (1994)',\n",
       " '559 Interview with the Vampire (1994)',\n",
       " \"560 Kid in King Arthur's Court, A (1995)\",\n",
       " \"561 Mary Shelley's Frankenstein (1994)\",\n",
       " '562 Quick and the Dead, The (1995)',\n",
       " \"563 Stephen King's The Langoliers (1995)\",\n",
       " '564 Tales from the Hood (1995)',\n",
       " '565 Village of the Damned (1995)',\n",
       " '566 Clear and Present Danger (1994)',\n",
       " \"567 Wes Craven's New Nightmare (1994)\",\n",
       " '568 Speed (1994)',\n",
       " '569 Wolf (1994)',\n",
       " '570 Wyatt Earp (1994)',\n",
       " '571 Another Stakeout (1993)',\n",
       " '572 Blown Away (1994)',\n",
       " '573 Body Snatchers (1993)',\n",
       " '574 Boxing Helena (1993)',\n",
       " \"575 City Slickers II: The Legend of Curly's Gold (1994)\",\n",
       " '576 Cliffhanger (1993)',\n",
       " '577 Coneheads (1993)',\n",
       " '578 Demolition Man (1993)',\n",
       " '579 Fatal Instinct (1993)',\n",
       " '580 Englishman Who Went Up a Hill, But Came Down a Mountain, The (1995)',\n",
       " '581 Kalifornia (1993)',\n",
       " '582 Piano, The (1993)',\n",
       " '583 Romeo Is Bleeding (1993)',\n",
       " '584 Secret Garden, The (1993)',\n",
       " '585 Son in Law (1993)',\n",
       " '586 Terminal Velocity (1994)',\n",
       " '587 Hour of the Pig, The (1993)',\n",
       " '588 Beauty and the Beast (1991)',\n",
       " '589 Wild Bunch, The (1969)',\n",
       " '590 Hellraiser: Bloodline (1996)',\n",
       " '591 Primal Fear (1996)',\n",
       " '592 True Crime (1995)',\n",
       " '593 Stalingrad (1993)',\n",
       " '594 Heavy (1995)',\n",
       " '595 Fan, The (1996)',\n",
       " '596 Hunchback of Notre Dame, The (1996)',\n",
       " '597 Eraser (1996)',\n",
       " '598 Big Squeeze, The (1996)',\n",
       " '599 Police Story 4: Project S (Chao ji ji hua) (1993)',\n",
       " \"600 Daniel Defoe's Robinson Crusoe (1996)\",\n",
       " '601 For Whom the Bell Tolls (1943)',\n",
       " '602 American in Paris, An (1951)',\n",
       " '603 Rear Window (1954)',\n",
       " '604 It Happened One Night (1934)',\n",
       " '605 Meet Me in St. Louis (1944)',\n",
       " '606 All About Eve (1950)',\n",
       " '607 Rebecca (1940)',\n",
       " '608 Spellbound (1945)',\n",
       " '609 Father of the Bride (1950)',\n",
       " '610 Gigi (1958)',\n",
       " '611 Laura (1944)',\n",
       " '612 Lost Horizon (1937)',\n",
       " '613 My Man Godfrey (1936)',\n",
       " '614 Giant (1956)',\n",
       " '615 39 Steps, The (1935)',\n",
       " '616 Night of the Living Dead (1968)',\n",
       " '617 Blue Angel, The (Blaue Engel, Der) (1930)',\n",
       " '618 Picnic (1955)',\n",
       " '619 Extreme Measures (1996)',\n",
       " '620 Chamber, The (1996)',\n",
       " '621 Davy Crockett, King of the Wild Frontier (1955)',\n",
       " '622 Swiss Family Robinson (1960)',\n",
       " '623 Angels in the Outfield (1994)',\n",
       " '624 Three Caballeros, The (1945)',\n",
       " '625 Sword in the Stone, The (1963)',\n",
       " '626 So Dear to My Heart (1949)',\n",
       " '627 Robin Hood: Prince of Thieves (1991)',\n",
       " '628 Sleepers (1996)',\n",
       " '629 Victor/Victoria (1982)',\n",
       " '630 Great Race, The (1965)',\n",
       " '631 Crying Game, The (1992)',\n",
       " \"632 Sophie's Choice (1982)\",\n",
       " '633 Christmas Carol, A (1938)',\n",
       " \"634 Microcosmos: Le peuple de l'herbe (1996)\",\n",
       " '635 Fog, The (1980)',\n",
       " '636 Escape from New York (1981)',\n",
       " '637 Howling, The (1981)',\n",
       " '638 Return of Martin Guerre, The (Retour de Martin Guerre, Le) (1982)',\n",
       " '639 Tin Drum, The (Blechtrommel, Die) (1979)',\n",
       " '640 Cook the Thief His Wife & Her Lover, The (1989)',\n",
       " '641 Paths of Glory (1957)',\n",
       " '642 Grifters, The (1990)',\n",
       " '643 The Innocent (1994)',\n",
       " '644 Thin Blue Line, The (1988)',\n",
       " '645 Paris Is Burning (1990)',\n",
       " '646 Once Upon a Time in the West (1969)',\n",
       " '647 Ran (1985)',\n",
       " '648 Quiet Man, The (1952)',\n",
       " '649 Once Upon a Time in America (1984)',\n",
       " '650 Seventh Seal, The (Sjunde inseglet, Det) (1957)',\n",
       " '651 Glory (1989)',\n",
       " '652 Rosencrantz and Guildenstern Are Dead (1990)',\n",
       " '653 Touch of Evil (1958)',\n",
       " '654 Chinatown (1974)',\n",
       " '655 Stand by Me (1986)',\n",
       " '656 M (1931)',\n",
       " '657 Manchurian Candidate, The (1962)',\n",
       " '658 Pump Up the Volume (1990)',\n",
       " '659 Arsenic and Old Lace (1944)',\n",
       " '660 Fried Green Tomatoes (1991)',\n",
       " '661 High Noon (1952)',\n",
       " '662 Somewhere in Time (1980)',\n",
       " '663 Being There (1979)',\n",
       " '664 Paris, Texas (1984)',\n",
       " '665 Alien 3 (1992)',\n",
       " \"666 Blood For Dracula (Andy Warhol's Dracula) (1974)\",\n",
       " '667 Audrey Rose (1977)',\n",
       " '668 Blood Beach (1981)',\n",
       " '669 Body Parts (1991)',\n",
       " '670 Body Snatchers (1993)',\n",
       " '671 Bride of Frankenstein (1935)',\n",
       " '672 Candyman (1992)',\n",
       " '673 Cape Fear (1962)',\n",
       " '674 Cat People (1982)',\n",
       " '675 Nosferatu (Nosferatu, eine Symphonie des Grauens) (1922)',\n",
       " '676 Crucible, The (1996)',\n",
       " '677 Fire on the Mountain (1996)',\n",
       " '678 Volcano (1997)',\n",
       " '679 Conan the Barbarian (1981)',\n",
       " '680 Kull the Conqueror (1997)',\n",
       " '681 Wishmaster (1997)',\n",
       " '682 I Know What You Did Last Summer (1997)',\n",
       " '683 Rocket Man (1997)',\n",
       " '684 In the Line of Fire (1993)',\n",
       " '685 Executive Decision (1996)',\n",
       " '686 Perfect World, A (1993)',\n",
       " \"687 McHale's Navy (1997)\",\n",
       " '688 Leave It to Beaver (1997)',\n",
       " '689 Jackal, The (1997)',\n",
       " '690 Seven Years in Tibet (1997)',\n",
       " '691 Dark City (1998)',\n",
       " '692 American President, The (1995)',\n",
       " '693 Casino (1995)',\n",
       " '694 Persuasion (1995)',\n",
       " '695 Kicking and Screaming (1995)',\n",
       " '696 City Hall (1996)',\n",
       " '697 Basketball Diaries, The (1995)',\n",
       " '698 Browning Version, The (1994)',\n",
       " '699 Little Women (1994)',\n",
       " '700 Miami Rhapsody (1995)',\n",
       " '701 Wonderful, Horrible Life of Leni Riefenstahl, The (1993)',\n",
       " '702 Barcelona (1994)',\n",
       " \"703 Widows' Peak (1994)\",\n",
       " '704 House of the Spirits, The (1993)',\n",
       " \"705 Singin' in the Rain (1952)\",\n",
       " '706 Bad Moon (1996)',\n",
       " '707 Enchanted April (1991)',\n",
       " '708 Sex, Lies, and Videotape (1989)',\n",
       " '709 Strictly Ballroom (1992)',\n",
       " '710 Better Off Dead... (1985)',\n",
       " '711 Substance of Fire, The (1996)',\n",
       " '712 Tin Men (1987)',\n",
       " '713 Othello (1995)',\n",
       " '714 Carrington (1995)',\n",
       " '715 To Die For (1995)',\n",
       " '716 Home for the Holidays (1995)',\n",
       " '717 Juror, The (1996)',\n",
       " '718 In the Bleak Midwinter (1995)',\n",
       " '719 Canadian Bacon (1994)',\n",
       " '720 First Knight (1995)',\n",
       " '721 Mallrats (1995)',\n",
       " '722 Nine Months (1995)',\n",
       " '723 Boys on the Side (1995)',\n",
       " '724 Circle of Friends (1995)',\n",
       " '725 Exit to Eden (1994)',\n",
       " '726 Fluke (1995)',\n",
       " '727 Immortal Beloved (1994)',\n",
       " '728 Junior (1994)',\n",
       " '729 Nell (1994)',\n",
       " '730 Queen Margot (Reine Margot, La) (1994)',\n",
       " '731 Corrina, Corrina (1994)',\n",
       " '732 Dave (1993)',\n",
       " '733 Go Fish (1994)',\n",
       " '734 Made in America (1993)',\n",
       " '735 Philadelphia (1993)',\n",
       " '736 Shadowlands (1993)',\n",
       " '737 Sirens (1994)',\n",
       " '738 Threesome (1994)',\n",
       " '739 Pretty Woman (1990)',\n",
       " '740 Jane Eyre (1996)',\n",
       " '741 Last Supper, The (1995)',\n",
       " '742 Ransom (1996)',\n",
       " '743 Crow: City of Angels, The (1996)',\n",
       " '744 Michael Collins (1996)',\n",
       " '745 Ruling Class, The (1972)',\n",
       " '746 Real Genius (1985)',\n",
       " '747 Benny & Joon (1993)',\n",
       " '748 Saint, The (1997)',\n",
       " '749 MatchMaker, The (1997)',\n",
       " '750 Amistad (1997)',\n",
       " '751 Tomorrow Never Dies (1997)',\n",
       " '752 Replacement Killers, The (1998)',\n",
       " '753 Burnt By the Sun (1994)',\n",
       " '754 Red Corner (1997)',\n",
       " '755 Jumanji (1995)',\n",
       " '756 Father of the Bride Part II (1995)',\n",
       " '757 Across the Sea of Time (1995)',\n",
       " '758 Lawnmower Man 2: Beyond Cyberspace (1996)',\n",
       " '759 Fair Game (1995)',\n",
       " '760 Screamers (1995)',\n",
       " '761 Nick of Time (1995)',\n",
       " '762 Beautiful Girls (1996)',\n",
       " '763 Happy Gilmore (1996)',\n",
       " '764 If Lucy Fell (1996)',\n",
       " '765 Boomerang (1992)',\n",
       " '766 Man of the Year (1995)',\n",
       " '767 Addiction, The (1995)',\n",
       " '768 Casper (1995)',\n",
       " '769 Congo (1995)',\n",
       " '770 Devil in a Blue Dress (1995)',\n",
       " '771 Johnny Mnemonic (1995)',\n",
       " '772 Kids (1995)',\n",
       " '773 Mute Witness (1994)',\n",
       " '774 Prophecy, The (1995)',\n",
       " '775 Something to Talk About (1995)',\n",
       " '776 Three Wishes (1995)',\n",
       " '777 Castle Freak (1995)',\n",
       " '778 Don Juan DeMarco (1995)',\n",
       " '779 Drop Zone (1994)',\n",
       " '780 Dumb & Dumber (1994)',\n",
       " '781 French Kiss (1995)',\n",
       " '782 Little Odessa (1994)',\n",
       " '783 Milk Money (1994)',\n",
       " '784 Beyond Bedlam (1993)',\n",
       " '785 Only You (1994)',\n",
       " '786 Perez Family, The (1995)',\n",
       " '787 Roommates (1995)',\n",
       " '788 Relative Fear (1994)',\n",
       " '789 Swimming with Sharks (1995)',\n",
       " '790 Tommy Boy (1995)',\n",
       " '791 Baby-Sitters Club, The (1995)',\n",
       " '792 Bullets Over Broadway (1994)',\n",
       " '793 Crooklyn (1994)',\n",
       " '794 It Could Happen to You (1994)',\n",
       " '795 Richie Rich (1994)',\n",
       " '796 Speechless (1994)',\n",
       " '797 Timecop (1994)',\n",
       " '798 Bad Company (1995)',\n",
       " '799 Boys Life (1995)',\n",
       " '800 In the Mouth of Madness (1995)',\n",
       " '801 Air Up There, The (1994)',\n",
       " '802 Hard Target (1993)',\n",
       " '803 Heaven & Earth (1993)',\n",
       " '804 Jimmy Hollywood (1994)',\n",
       " '805 Manhattan Murder Mystery (1993)',\n",
       " '806 Menace II Society (1993)',\n",
       " '807 Poetic Justice (1993)',\n",
       " '808 Program, The (1993)',\n",
       " '809 Rising Sun (1993)',\n",
       " '810 Shadow, The (1994)',\n",
       " '811 Thirty-Two Short Films About Glenn Gould (1993)',\n",
       " '812 Andre (1994)',\n",
       " '813 Celluloid Closet, The (1995)',\n",
       " '814 Great Day in Harlem, A (1994)',\n",
       " '815 One Fine Day (1996)',\n",
       " '816 Candyman: Farewell to the Flesh (1995)',\n",
       " '817 Frisk (1995)',\n",
       " '818 Girl 6 (1996)',\n",
       " '819 Eddie (1996)',\n",
       " '820 Space Jam (1996)',\n",
       " '821 Mrs. Winterbourne (1996)',\n",
       " '822 Faces (1968)',\n",
       " '823 Mulholland Falls (1996)',\n",
       " '824 Great White Hype, The (1996)',\n",
       " '825 Arrival, The (1996)',\n",
       " '826 Phantom, The (1996)',\n",
       " '827 Daylight (1996)',\n",
       " '828 Alaska (1996)',\n",
       " '829 Fled (1996)',\n",
       " '830 Power 98 (1995)',\n",
       " '831 Escape from L.A. (1996)',\n",
       " '832 Bogus (1996)',\n",
       " '833 Bulletproof (1996)',\n",
       " '834 Halloween: The Curse of Michael Myers (1995)',\n",
       " '835 Gay Divorcee, The (1934)',\n",
       " '836 Ninotchka (1939)',\n",
       " '837 Meet John Doe (1941)',\n",
       " '838 In the Line of Duty 2 (1987)',\n",
       " '839 Loch Ness (1995)',\n",
       " '840 Last Man Standing (1996)',\n",
       " '841 Glimmer Man, The (1996)',\n",
       " '842 Pollyanna (1960)',\n",
       " '843 Shaggy Dog, The (1959)',\n",
       " '844 Freeway (1996)',\n",
       " '845 That Thing You Do! (1996)',\n",
       " '846 To Gillian on Her 37th Birthday (1996)',\n",
       " '847 Looking for Richard (1996)',\n",
       " '848 Murder, My Sweet (1944)',\n",
       " '849 Days of Thunder (1990)',\n",
       " '850 Perfect Candidate, A (1996)',\n",
       " '851 Two or Three Things I Know About Her (1966)',\n",
       " '852 Bloody Child, The (1996)',\n",
       " '853 Braindead (1992)',\n",
       " '854 Bad Taste (1987)',\n",
       " '855 Diva (1981)',\n",
       " '856 Night on Earth (1991)',\n",
       " '857 Paris Was a Woman (1995)',\n",
       " '858 Amityville: Dollhouse (1996)',\n",
       " \"859 April Fool's Day (1986)\",\n",
       " '860 Believers, The (1987)',\n",
       " '861 Nosferatu a Venezia (1986)',\n",
       " '862 Jingle All the Way (1996)',\n",
       " '863 Garden of Finzi-Contini, The (Giardino dei Finzi-Contini, Il) (1970)',\n",
       " '864 My Fellow Americans (1996)',\n",
       " '865 Ice Storm, The (1997)',\n",
       " '866 Michael (1996)',\n",
       " '867 Whole Wide World, The (1996)',\n",
       " '868 Hearts and Minds (1996)',\n",
       " '869 Fools Rush In (1997)',\n",
       " '870 Touch (1997)',\n",
       " '871 Vegas Vacation (1997)',\n",
       " '872 Love Jones (1997)',\n",
       " '873 Picture Perfect (1997)',\n",
       " '874 Career Girls (1997)',\n",
       " \"875 She's So Lovely (1997)\",\n",
       " '876 Money Talks (1997)',\n",
       " '877 Excess Baggage (1997)',\n",
       " '878 That Darn Cat! (1997)',\n",
       " '879 Peacemaker, The (1997)',\n",
       " '880 Soul Food (1997)',\n",
       " '881 Money Talks (1997)',\n",
       " '882 Washington Square (1997)',\n",
       " '883 Telling Lies in America (1997)',\n",
       " '884 Year of the Horse (1997)',\n",
       " '885 Phantoms (1998)',\n",
       " '886 Life Less Ordinary, A (1997)',\n",
       " \"887 Eve's Bayou (1997)\",\n",
       " '888 One Night Stand (1997)',\n",
       " '889 Tango Lesson, The (1997)',\n",
       " '890 Mortal Kombat: Annihilation (1997)',\n",
       " '891 Bent (1997)',\n",
       " '892 Flubber (1997)',\n",
       " '893 For Richer or Poorer (1997)',\n",
       " '894 Home Alone 3 (1997)',\n",
       " '895 Scream 2 (1997)',\n",
       " '896 Sweet Hereafter, The (1997)',\n",
       " '897 Time Tracers (1995)',\n",
       " '898 Postman, The (1997)',\n",
       " '899 Winter Guest, The (1997)',\n",
       " '900 Kundun (1997)',\n",
       " '901 Mr. Magoo (1997)',\n",
       " '902 Big Lebowski, The (1998)',\n",
       " '903 Afterglow (1997)',\n",
       " '904 Ma vie en rose (My Life in Pink) (1997)',\n",
       " '905 Great Expectations (1998)',\n",
       " '906 Oscar & Lucinda (1997)',\n",
       " '907 Vermin (1998)',\n",
       " '908 Half Baked (1998)',\n",
       " '909 Dangerous Beauty (1998)',\n",
       " '910 Nil By Mouth (1997)',\n",
       " '911 Twilight (1998)',\n",
       " '912 U.S. Marshalls (1998)',\n",
       " '913 Love and Death on Long Island (1997)',\n",
       " '914 Wild Things (1998)',\n",
       " '915 Primary Colors (1998)',\n",
       " '916 Lost in Space (1998)',\n",
       " '917 Mercury Rising (1998)',\n",
       " '918 City of Angels (1998)',\n",
       " '919 City of Lost Children, The (1995)',\n",
       " '920 Two Bits (1995)',\n",
       " '921 Farewell My Concubine (1993)',\n",
       " '922 Dead Man (1995)',\n",
       " '923 Raise the Red Lantern (1991)',\n",
       " '924 White Squall (1996)',\n",
       " '925 Unforgettable (1996)',\n",
       " '926 Down Periscope (1996)',\n",
       " '927 Flower of My Secret, The (Flor de mi secreto, La) (1995)',\n",
       " '928 Craft, The (1996)',\n",
       " '929 Harriet the Spy (1996)',\n",
       " '930 Chain Reaction (1996)',\n",
       " '931 Island of Dr. Moreau, The (1996)',\n",
       " '932 First Kid (1996)',\n",
       " '933 Funeral, The (1996)',\n",
       " \"934 Preacher's Wife, The (1996)\",\n",
       " '935 Paradise Road (1997)',\n",
       " '936 Brassed Off (1996)',\n",
       " '937 Thousand Acres, A (1997)',\n",
       " '938 Smile Like Yours, A (1997)',\n",
       " '939 Murder in the First (1995)',\n",
       " '940 Airheads (1994)',\n",
       " '941 With Honors (1994)',\n",
       " \"942 What's Love Got to Do with It (1993)\",\n",
       " '943 Killing Zoe (1994)',\n",
       " '944 Renaissance Man (1994)',\n",
       " '945 Charade (1963)',\n",
       " '946 Fox and the Hound, The (1981)',\n",
       " '947 Big Blue, The (Grand bleu, Le) (1988)',\n",
       " '948 Booty Call (1997)',\n",
       " '949 How to Make an American Quilt (1995)',\n",
       " '950 Georgia (1995)',\n",
       " '951 Indian in the Cupboard, The (1995)',\n",
       " '952 Blue in the Face (1995)',\n",
       " '953 Unstrung Heroes (1995)',\n",
       " '954 Unzipped (1995)',\n",
       " '955 Before Sunrise (1995)',\n",
       " \"956 Nobody's Fool (1994)\",\n",
       " '957 Pushing Hands (1992)',\n",
       " '958 To Live (Huozhe) (1994)',\n",
       " '959 Dazed and Confused (1993)',\n",
       " '960 Naked (1993)',\n",
       " '961 Orlando (1993)',\n",
       " '962 Ruby in Paradise (1993)',\n",
       " '963 Some Folks Call It a Sling Blade (1993)',\n",
       " '964 Month by the Lake, A (1995)',\n",
       " '965 Funny Face (1957)',\n",
       " '966 Affair to Remember, An (1957)',\n",
       " '967 Little Lord Fauntleroy (1936)',\n",
       " '968 Inspector General, The (1949)',\n",
       " '969 Winnie the Pooh and the Blustery Day (1968)',\n",
       " '970 Hear My Song (1991)',\n",
       " '971 Mediterraneo (1991)',\n",
       " '972 Passion Fish (1992)',\n",
       " '973 Grateful Dead (1995)',\n",
       " '974 Eye for an Eye (1996)',\n",
       " '975 Fear (1996)',\n",
       " '976 Solo (1996)',\n",
       " '977 Substitute, The (1996)',\n",
       " \"978 Heaven's Prisoners (1996)\",\n",
       " '979 Trigger Effect, The (1996)',\n",
       " '980 Mother Night (1996)',\n",
       " '981 Dangerous Ground (1997)',\n",
       " '982 Maximum Risk (1996)',\n",
       " \"983 Rich Man's Wife, The (1996)\",\n",
       " '984 Shadow Conspiracy (1997)',\n",
       " '985 Blood & Wine (1997)',\n",
       " '986 Turbulence (1997)',\n",
       " '987 Underworld (1997)',\n",
       " '988 Beautician and the Beast, The (1997)',\n",
       " \"989 Cats Don't Dance (1997)\",\n",
       " '990 Anna Karenina (1997)',\n",
       " '991 Keys to Tulsa (1997)',\n",
       " '992 Head Above Water (1996)',\n",
       " '993 Hercules (1997)',\n",
       " '994 Last Time I Committed Suicide, The (1997)',\n",
       " '995 Kiss Me, Guido (1997)',\n",
       " '996 Big Green, The (1995)',\n",
       " '997 Stuart Saves His Family (1995)',\n",
       " '998 Cabin Boy (1994)',\n",
       " '999 Clean Slate (1994)',\n",
       " '1000 Lightning Jack (1994)',\n",
       " ...]"
      ]
     },
     "execution_count": 380,
     "metadata": {},
     "output_type": "execute_result"
    }
   ],
   "source": [
    "movieList"
   ]
  },
  {
   "cell_type": "code",
   "execution_count": 390,
   "metadata": {},
   "outputs": [],
   "source": [
    "my_ratings = np.zeros((1682, 1))\n",
    "# Check the file movie_idx.txt for id of each movie in our dataset\n",
    "# For example, Toy Story [1995] has ID 1, so to rate it \"4\", you can set\n",
    "my_ratings[0] = 4;\n",
    "# Or suppose did not enjoy Silence of the Lambs [1991], you can set\n",
    "my_ratings[97] = 2; \n",
    "\n",
    "# We have selected a few movies we liked / did not like and the ratings we gave are as follows:\n",
    "my_ratings[6] = 3;\n",
    "my_ratings[11]= 5;\n",
    "my_ratings[53] = 4;\n",
    "my_ratings[63]= 5;\n",
    "my_ratings[65]= 3;\n",
    "my_ratings[68] = 5;\n",
    "my_ratings[182] = 4;\n",
    "my_ratings[225] = 5;\n",
    "my_ratings[354]= 5;"
   ]
  },
  {
   "cell_type": "markdown",
   "metadata": {},
   "source": [
    "#### 2.3.1 Recommendations\n",
    "\n",
    "After the additional ratings have been added to the dataset, the code below will proceed to train the collaborative filtering model. This will learn the parameters X and Theta. "
   ]
  },
  {
   "cell_type": "code",
   "execution_count": 421,
   "metadata": {},
   "outputs": [],
   "source": [
    "mat = scipy.io.loadmat('ex8_movies.mat')\n",
    "Y = mat['Y']\n",
    "R = mat['R']\n",
    "Y = np.concatenate((my_ratings, Y), axis=1)\n",
    "R = np.concatenate((np.where(my_ratings != 0, 1, 0), R), axis=1)"
   ]
  },
  {
   "cell_type": "code",
   "execution_count": 422,
   "metadata": {},
   "outputs": [],
   "source": [
    "def normalizeRatings(Y, R):\n",
    "    m, n = Y.shape\n",
    "    Ymean = np.zeros((m, 1))\n",
    "    Ynorm = np.zeros(Y.shape)\n",
    "    for i in range(m):\n",
    "        idx = np.where(R[i, :]==1)\n",
    "        Ymean[i] = np.mean(Y[i, idx])\n",
    "        Ynorm[i, idx] = Y[i, idx] - Ymean[i]\n",
    "    return Ymean, Ynorm"
   ]
  },
  {
   "cell_type": "code",
   "execution_count": 423,
   "metadata": {},
   "outputs": [
    {
     "name": "stdout",
     "output_type": "stream",
     "text": [
      "Optimization terminated successfully.\n",
      "         Current function value: 38951.847560\n",
      "         Iterations: 445\n",
      "         Function evaluations: 666\n",
      "         Gradient evaluations: 666\n"
     ]
    }
   ],
   "source": [
    "Ymean, Ynorm = normalizeRatings(Y, R)\n",
    "\n",
    "num_users = Y.shape[1]\n",
    "num_movies = Y.shape[0]\n",
    "num_features = 10\n",
    "\n",
    "# Set Initial Parameters (Theta, X)\n",
    "X = np.random.rand(num_movies, num_features)\n",
    "Theta = np.random.rand(num_users, num_features)\n",
    "initial_parameters = np.concatenate([X.flatten(), Theta.flatten()])\n",
    "# Set Regularization\n",
    "reg = 10\n",
    "\n",
    "kwargs = {\"Y\":Ynorm, \"R\":R, \"num_users\":num_users, \"num_movies\":num_movies, \"num_features\":num_features, \"reg\":reg}\n",
    "theta = fmin_cg(lambda x: cofiCostFunc3(x, **kwargs)[0], x0=initial_parameters, \n",
    "                fprime=lambda x: cofiCostFunc3(x, **kwargs)[1])"
   ]
  },
  {
   "cell_type": "code",
   "execution_count": 424,
   "metadata": {},
   "outputs": [],
   "source": [
    "X = np.reshape(theta[:num_movies*num_features], (num_movies, num_features))\n",
    "Theta = np.reshape(theta[num_movies*num_features:], (num_users, num_features))"
   ]
  },
  {
   "cell_type": "markdown",
   "metadata": {},
   "source": [
    "To predict the rating of movie $i$ for user $j$, you need to compute $(\\theta^{(j)})^T x^{(i)}$ The code below computes the ratings for all the movies and users and displays the movies that it recommends (Figure 4), according to ratings that were entered earlier in the script. Note that you might obtain a different set of the predictions due to different random initializations."
   ]
  },
  {
   "cell_type": "code",
   "execution_count": 453,
   "metadata": {},
   "outputs": [
    {
     "name": "stdout",
     "output_type": "stream",
     "text": [
      "Top recommendations for you: \n",
      "Predicting rating 5.0 for movie 814 Great Day in Harlem, A (1994)\n",
      "Predicting rating 5.0 for movie 1189 Prefontaine (1997)\n",
      "Predicting rating 5.0 for movie 1653 Entertaining Angels: The Dorothy Day Story (1996)\n",
      "Predicting rating 5.0 for movie 1122 They Made Me a Criminal (1939)\n",
      "Predicting rating 5.0 for movie 1467 Saint of Fort Washington, The (1993)\n",
      "Predicting rating 5.0 for movie 1201 Marlene Dietrich: Shadow and Light (1996) \n",
      "Predicting rating 5.0 for movie 1293 Star Kid (1997)\n",
      "Predicting rating 5.0 for movie 1599 Someone Else's America (1995)\n",
      "Predicting rating 5.0 for movie 1536 Aiqing wansui (1994)\n",
      "Predicting rating 5.0 for movie 1500 Santa with Muscles (1996)\n"
     ]
    }
   ],
   "source": [
    "p = X.dot(Theta.T)\n",
    "my_predictions = p[:,0] + Ymean.flatten()\n",
    "\n",
    "n = 10\n",
    "ranked = np.argsort(my_predictions)\n",
    "largest_indices = ranked[::-1][:n]\n",
    "for i in range(n):\n",
    "    j = largest_indices[i]\n",
    "    if i == 0:\n",
    "        print('Top recommendations for you: ')\n",
    "    print('Predicting rating %.1f for movie %s'%(my_predictions[j], movieList[j]))"
   ]
  },
  {
   "cell_type": "code",
   "execution_count": null,
   "metadata": {},
   "outputs": [],
   "source": []
  }
 ],
 "metadata": {
  "kernelspec": {
   "display_name": "Python 3",
   "language": "python",
   "name": "python3"
  },
  "language_info": {
   "codemirror_mode": {
    "name": "ipython",
    "version": 3
   },
   "file_extension": ".py",
   "mimetype": "text/x-python",
   "name": "python",
   "nbconvert_exporter": "python",
   "pygments_lexer": "ipython3",
   "version": "3.6.5"
  }
 },
 "nbformat": 4,
 "nbformat_minor": 2
}
