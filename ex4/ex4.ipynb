{
 "cells": [
  {
   "cell_type": "code",
   "execution_count": 6,
   "metadata": {},
   "outputs": [],
   "source": [
    "from IPython.core.interactiveshell import InteractiveShell\n",
    "InteractiveShell.ast_node_interactivity = \"all\"\n",
    "import warnings\n",
    "warnings.filterwarnings('ignore')"
   ]
  },
  {
   "cell_type": "markdown",
   "metadata": {},
   "source": [
    "## Machine Learning: Programming Exercise 4"
   ]
  },
  {
   "cell_type": "code",
   "execution_count": 12,
   "metadata": {},
   "outputs": [],
   "source": [
    "import pandas as pd\n",
    "import scipy.io\n",
    "import matplotlib.pyplot as plt\n",
    "import math\n",
    "import numpy as np"
   ]
  },
  {
   "cell_type": "markdown",
   "metadata": {},
   "source": [
    "## Neural Networks Learning\n",
    "In this exercise, you will implement the backpropagation algorithm for neural networks and apply it to the task of hand-written digit recognition.\n",
    "\n",
    "## 1. Neural Networks\n",
    "\n",
    "In the previous exercise, you implemented feedforward propagation for neural networks and used it to predict handwritten digits with the weights we provided. In this exercise, you will implement the backpropagation algorithm to learn the parameters for the neural network.\n",
    "\n",
    "### 1.1 Visualizing the data"
   ]
  },
  {
   "cell_type": "code",
   "execution_count": 86,
   "metadata": {},
   "outputs": [
    {
     "data": {
      "text/plain": [
       "(5000, 400)"
      ]
     },
     "execution_count": 86,
     "metadata": {},
     "output_type": "execute_result"
    }
   ],
   "source": [
    "mat = scipy.io.loadmat('ex4data1.mat')\n",
    "X = mat['X']\n",
    "y = mat['y']\n",
    "X.shape"
   ]
  },
  {
   "cell_type": "code",
   "execution_count": 87,
   "metadata": {
    "scrolled": true
   },
   "outputs": [
    {
     "data": {
      "text/plain": [
       "<matplotlib.axes._subplots.AxesSubplot at 0xb1ba734a8>"
      ]
     },
     "execution_count": 87,
     "metadata": {},
     "output_type": "execute_result"
    },
    {
     "data": {
      "text/plain": [
       "<matplotlib.image.AxesImage at 0xb1bafe5f8>"
      ]
     },
     "execution_count": 87,
     "metadata": {},
     "output_type": "execute_result"
    },
    {
     "data": {
      "text/plain": [
       "(-0.5, 19.5, 19.5, -0.5)"
      ]
     },
     "execution_count": 87,
     "metadata": {},
     "output_type": "execute_result"
    },
    {
     "data": {
      "text/plain": [
       "<matplotlib.axes._subplots.AxesSubplot at 0xb1bafe9e8>"
      ]
     },
     "execution_count": 87,
     "metadata": {},
     "output_type": "execute_result"
    },
    {
     "data": {
      "text/plain": [
       "<matplotlib.image.AxesImage at 0xb211c3080>"
      ]
     },
     "execution_count": 87,
     "metadata": {},
     "output_type": "execute_result"
    },
    {
     "data": {
      "text/plain": [
       "(-0.5, 19.5, 19.5, -0.5)"
      ]
     },
     "execution_count": 87,
     "metadata": {},
     "output_type": "execute_result"
    },
    {
     "data": {
      "text/plain": [
       "<matplotlib.axes._subplots.AxesSubplot at 0xb211b1ef0>"
      ]
     },
     "execution_count": 87,
     "metadata": {},
     "output_type": "execute_result"
    },
    {
     "data": {
      "text/plain": [
       "<matplotlib.image.AxesImage at 0xb1fd657b8>"
      ]
     },
     "execution_count": 87,
     "metadata": {},
     "output_type": "execute_result"
    },
    {
     "data": {
      "text/plain": [
       "(-0.5, 19.5, 19.5, -0.5)"
      ]
     },
     "execution_count": 87,
     "metadata": {},
     "output_type": "execute_result"
    },
    {
     "data": {
      "text/plain": [
       "<matplotlib.axes._subplots.AxesSubplot at 0xb1fd65b70>"
      ]
     },
     "execution_count": 87,
     "metadata": {},
     "output_type": "execute_result"
    },
    {
     "data": {
      "text/plain": [
       "<matplotlib.image.AxesImage at 0xb1fd65ac8>"
      ]
     },
     "execution_count": 87,
     "metadata": {},
     "output_type": "execute_result"
    },
    {
     "data": {
      "text/plain": [
       "(-0.5, 19.5, 19.5, -0.5)"
      ]
     },
     "execution_count": 87,
     "metadata": {},
     "output_type": "execute_result"
    },
    {
     "data": {
      "text/plain": [
       "<matplotlib.axes._subplots.AxesSubplot at 0xb1fd8ae80>"
      ]
     },
     "execution_count": 87,
     "metadata": {},
     "output_type": "execute_result"
    },
    {
     "data": {
      "text/plain": [
       "<matplotlib.image.AxesImage at 0xb1eb1b748>"
      ]
     },
     "execution_count": 87,
     "metadata": {},
     "output_type": "execute_result"
    },
    {
     "data": {
      "text/plain": [
       "(-0.5, 19.5, 19.5, -0.5)"
      ]
     },
     "execution_count": 87,
     "metadata": {},
     "output_type": "execute_result"
    },
    {
     "data": {
      "text/plain": [
       "<matplotlib.axes._subplots.AxesSubplot at 0xb1eb1b5f8>"
      ]
     },
     "execution_count": 87,
     "metadata": {},
     "output_type": "execute_result"
    },
    {
     "data": {
      "text/plain": [
       "<matplotlib.image.AxesImage at 0xb1eb6cf28>"
      ]
     },
     "execution_count": 87,
     "metadata": {},
     "output_type": "execute_result"
    },
    {
     "data": {
      "text/plain": [
       "(-0.5, 19.5, 19.5, -0.5)"
      ]
     },
     "execution_count": 87,
     "metadata": {},
     "output_type": "execute_result"
    },
    {
     "data": {
      "text/plain": [
       "<matplotlib.axes._subplots.AxesSubplot at 0xb1eb6ce48>"
      ]
     },
     "execution_count": 87,
     "metadata": {},
     "output_type": "execute_result"
    },
    {
     "data": {
      "text/plain": [
       "<matplotlib.image.AxesImage at 0xb19492828>"
      ]
     },
     "execution_count": 87,
     "metadata": {},
     "output_type": "execute_result"
    },
    {
     "data": {
      "text/plain": [
       "(-0.5, 19.5, 19.5, -0.5)"
      ]
     },
     "execution_count": 87,
     "metadata": {},
     "output_type": "execute_result"
    },
    {
     "data": {
      "text/plain": [
       "<matplotlib.axes._subplots.AxesSubplot at 0xb19492cf8>"
      ]
     },
     "execution_count": 87,
     "metadata": {},
     "output_type": "execute_result"
    },
    {
     "data": {
      "text/plain": [
       "<matplotlib.image.AxesImage at 0xb194c3f60>"
      ]
     },
     "execution_count": 87,
     "metadata": {},
     "output_type": "execute_result"
    },
    {
     "data": {
      "text/plain": [
       "(-0.5, 19.5, 19.5, -0.5)"
      ]
     },
     "execution_count": 87,
     "metadata": {},
     "output_type": "execute_result"
    },
    {
     "data": {
      "text/plain": [
       "<matplotlib.axes._subplots.AxesSubplot at 0xb194cf3c8>"
      ]
     },
     "execution_count": 87,
     "metadata": {},
     "output_type": "execute_result"
    },
    {
     "data": {
      "text/plain": [
       "<matplotlib.image.AxesImage at 0xb179c0dd8>"
      ]
     },
     "execution_count": 87,
     "metadata": {},
     "output_type": "execute_result"
    },
    {
     "data": {
      "text/plain": [
       "(-0.5, 19.5, 19.5, -0.5)"
      ]
     },
     "execution_count": 87,
     "metadata": {},
     "output_type": "execute_result"
    },
    {
     "data": {
      "text/plain": [
       "<matplotlib.axes._subplots.AxesSubplot at 0x103172080>"
      ]
     },
     "execution_count": 87,
     "metadata": {},
     "output_type": "execute_result"
    },
    {
     "data": {
      "text/plain": [
       "<matplotlib.image.AxesImage at 0xb1ba21b70>"
      ]
     },
     "execution_count": 87,
     "metadata": {},
     "output_type": "execute_result"
    },
    {
     "data": {
      "text/plain": [
       "(-0.5, 19.5, 19.5, -0.5)"
      ]
     },
     "execution_count": 87,
     "metadata": {},
     "output_type": "execute_result"
    },
    {
     "data": {
      "text/plain": [
       "<matplotlib.axes._subplots.AxesSubplot at 0xb1b9c6a20>"
      ]
     },
     "execution_count": 87,
     "metadata": {},
     "output_type": "execute_result"
    },
    {
     "data": {
      "text/plain": [
       "<matplotlib.image.AxesImage at 0xb1b9d2208>"
      ]
     },
     "execution_count": 87,
     "metadata": {},
     "output_type": "execute_result"
    },
    {
     "data": {
      "text/plain": [
       "(-0.5, 19.5, 19.5, -0.5)"
      ]
     },
     "execution_count": 87,
     "metadata": {},
     "output_type": "execute_result"
    },
    {
     "data": {
      "text/plain": [
       "<matplotlib.axes._subplots.AxesSubplot at 0xb1ba217f0>"
      ]
     },
     "execution_count": 87,
     "metadata": {},
     "output_type": "execute_result"
    },
    {
     "data": {
      "text/plain": [
       "<matplotlib.image.AxesImage at 0xb1b6dacc0>"
      ]
     },
     "execution_count": 87,
     "metadata": {},
     "output_type": "execute_result"
    },
    {
     "data": {
      "text/plain": [
       "(-0.5, 19.5, 19.5, -0.5)"
      ]
     },
     "execution_count": 87,
     "metadata": {},
     "output_type": "execute_result"
    },
    {
     "data": {
      "image/png": "[encoded data removed]",
      "text/plain": [
       "<Figure size 432x288 with 12 Axes>"
      ]
     },
     "metadata": {
      "needs_background": "light"
     },
     "output_type": "display_data"
    }
   ],
   "source": [
    "example_nums = 12\n",
    "idxs = np.random.choice(range(X.shape[0]), example_nums, replace=False)\n",
    "size = round(math.sqrt(X.shape[1]))\n",
    "\n",
    "for i, idx in enumerate(idxs):\n",
    "    plt.subplot(3, 4, i+1)\n",
    "    plt.imshow(X[idx].reshape(size, size).T.astype('float'))\n",
    "    plt.axis('off')\n",
    "plt.show()\n",
    "plt.close()"
   ]
  },
  {
   "cell_type": "markdown",
   "metadata": {},
   "source": [
    "### 1.2 Model representation\n",
    "\n",
    "Our neural network is shown in Figure 2. It has 3 layers- an input layer, a hidden layer and an output layer. Recall that our inputs are pixel values of digit images. Since the images are of size 20 x 20, this gives us 400 input layer units (not counting the extra bias unit which always outputs +1). \n",
    "\n",
    "You have been provided with a set of network parameters $(\\Theta^{(1)},\\Theta^{(2)})$ already trained by us. These are stored in ex4weights.mat.  Run the code below to load them into Theta1 and Theta2. The parameters have dimensions that are sized for a neural network with 25 units in the second layer and 10 output units (corresponding to the 10 digit classes)."
   ]
  },
  {
   "cell_type": "code",
   "execution_count": 88,
   "metadata": {},
   "outputs": [
    {
     "data": {
      "text/plain": [
       "(25, 401)"
      ]
     },
     "execution_count": 88,
     "metadata": {},
     "output_type": "execute_result"
    },
    {
     "data": {
      "text/plain": [
       "(10, 26)"
      ]
     },
     "execution_count": 88,
     "metadata": {},
     "output_type": "execute_result"
    }
   ],
   "source": [
    "weights = scipy.io.loadmat('ex4weights.mat')\n",
    "Theta1 = weights['Theta1']\n",
    "Theta2 = weights['Theta2']\n",
    "Theta1.shape\n",
    "Theta2.shape"
   ]
  },
  {
   "cell_type": "markdown",
   "metadata": {},
   "source": [
    "### 1.3 Feedforward and cost function\n",
    "Now you will implement the cost function and gradient for the neural network. First, complete the code in nnCostFunction.m to return the cost. Recall that the cost function for the neural network (without regularization) is\n",
    "\n",
    "<center> $J(\\theta) =\\frac{1}{m}{\\sum_{i=1}^m\\sum_{k=1}^K{\\left[-y_k^{(i)} \\log((h_{\\theta}(x^{(i)}))_k)- (1 -y_k^{(i)}) \\log(1- (h_{\\theta}(x^{(i)}))_k)\\right]}}$ </center>\n",
    "\n",
    "where $h_\\theta(x^{(i)})$ is computed as shown in the Figure 2 and $K = 10$ is the total number of possible labels. Note that $h_\\theta(x^{(i)})_k = a^{(3)}_k$ is the activation (output value) of the -th output unit. Also, recall that whereas the original labels (in the variable y) were  for the purpose of training a neural network, we need to recode the labels as vectors containing only values 0 or 1, so that"
   ]
  },
  {
   "cell_type": "code",
   "execution_count": 31,
   "metadata": {},
   "outputs": [],
   "source": [
    "def sigmoid(z):\n",
    "    return 1./(1.+np.exp(-1.*z))"
   ]
  },
  {
   "cell_type": "code",
   "execution_count": 93,
   "metadata": {},
   "outputs": [],
   "source": [
    "def nnCostFunction(nn_params, input_layer_size, hidden_layer_size, num_labels, X, y, reg):\n",
    "    '''\n",
    "    NNCOSTFUNCTION Implements the neural network cost function for a two layer\n",
    "    neural network which performs classification\n",
    "    [J grad] = NNCOSTFUNCTON(nn_params, hidden_layer_size, num_labels, X, y, lambda) \n",
    "    computes the cost and gradient of the neural network. \n",
    "    The parameters for the neural network are \"unrolled\" into the vector nn_params \n",
    "    and need to be converted back into the weight matrices. \n",
    "    The returned parameter grad should be a \"unrolled\" vector of the partial derivatives of the neural network.\n",
    "    '''\n",
    "    # Reshape nn_params back into the parameters Theta1 and Theta2, \n",
    "    # the weight matrices for our 2 layer neural network\n",
    "    Theta1 = nn_params[:(input_layer_size+1)*hidden_layer_size].reshape(hidden_layer_size, input_layer_size+1)\n",
    "    Theta2 = nn_params[(input_layer_size+1)*hidden_layer_size:].reshape(num_labels, hidden_layer_size+1)\n",
    "    \n",
    "    # Set up some useful variables\n",
    "    m = X.shape[0]\n",
    "    \n",
    "    \n",
    "    # Part 1: Feedforward the neural network and return the cost in the variable J\n",
    "    X = np.concatenate((np.ones((m,1)), X), axis=1) # 5000*401\n",
    "    z2 = np.dot(Theta1, X.T) # (25*401)*(401*5000)\n",
    "    a2 = sigmoid(z2) # (25*5000)\n",
    "\n",
    "    a2 = np.concatenate((np.ones((m,1)), a2.T), axis=1) #(5000*26)\n",
    "    z3 = np.dot(Theta2, a2.T) #(10*26)*(26*5000)\n",
    "    h_theta = sigmoid(z3) # h_theta equals a3, (10*5000)\n",
    "    \n",
    "    # Recode the labels as vectors containing only values 0 or 1 \n",
    "    y_new = np.zeros((num_labels, m)) # (10*5000)\n",
    "    for i in range(m):\n",
    "        y_new[y[i]-1, i] = 1\n",
    "    \n",
    "    \n",
    "    # Cost without regularization\n",
    "    J = -((y_new*np.log(h_theta)).sum()+((1-y_new)*np.log(1-h_theta)).sum())/m\n",
    "    # Add regularization\n",
    "    J += reg*np.sum(Theta1[:,1:]**2)/(2*m) + reg*np.sum(Theta2[:,1:]**2)/(2*m) \n",
    "    \n",
    "    return J"
   ]
  },
  {
   "cell_type": "code",
   "execution_count": 94,
   "metadata": {},
   "outputs": [
    {
     "name": "stdout",
     "output_type": "stream",
     "text": [
      "Cost at parameters (loaded from ex4weights):  0.2876291651613189\n"
     ]
    }
   ],
   "source": [
    "input_layer_size  = 400   # 20x20 Input Images of Digits\n",
    "hidden_layer_size = 25    # 25 hidden units\n",
    "num_labels = 10           # 10 labels, from 1 to 10 (note that we have mapped \"0\" to label 10)\n",
    "\n",
    "# Unroll parameters \n",
    "nn_params = np.concatenate((Theta1.flatten(), Theta2.flatten()))\n",
    "\n",
    "# Weight regularization parameter (we set this to 0 here).\n",
    "reg = 0 \n",
    "\n",
    "J = nnCostFunction(nn_params, input_layer_size, hidden_layer_size, num_labels, X, y, reg) \n",
    "\n",
    "print('Cost at parameters (loaded from ex4weights): ', J) "
   ]
  },
  {
   "cell_type": "markdown",
   "metadata": {},
   "source": [
    "### 1.4 Regularized cost function\n",
    "\n",
    "The cost function for neural networks with regularization is given by \n",
    "<center>$J(\\theta) =\n",
    "\\frac{1}{m}\\sum_{i=1}^m\n",
    "\\sum_{k=1}^K \n",
    "\\left[ -y^{(i)}_k \\log((h_{\\theta}(x^{(i)})_k)- (1 -y^{(i)}_k) \\log(1-(h_{\\theta}(x^{(i)}))_k)  \\right]\n",
    "\\\\ \\qquad \n",
    "+\\frac{\\lambda}{2m} \\left[\\sum_{j=1}^{25} \n",
    "\\sum_{k=1}^{400} {\\left( \\Theta_{j,k}^{(1)}\\right)^2}+\n",
    "\\sum_{j=1}^{10} \n",
    "\\sum_{k=1}^{25} {\\left( \\Theta_{j,k}^{(2)}\\right)^2}\\right]$</center>"
   ]
  },
  {
   "cell_type": "code",
   "execution_count": 95,
   "metadata": {},
   "outputs": [
    {
     "name": "stdout",
     "output_type": "stream",
     "text": [
      "Cost at parameters (loaded from ex4weights):  0.38376985909092365\n"
     ]
    }
   ],
   "source": [
    "# Weight regularization parameter (we set this to 1 here).\n",
    "reg = 1;\n",
    "\n",
    "J = nnCostFunction(nn_params, input_layer_size, hidden_layer_size, num_labels, X, y, reg)\n",
    "print('Cost at parameters (loaded from ex4weights): ', J) "
   ]
  },
  {
   "cell_type": "markdown",
   "metadata": {},
   "source": [
    "## 2. Backpropagation"
   ]
  },
  {
   "cell_type": "markdown",
   "metadata": {},
   "source": [
    "### 2.1 Sigmoid gradient\n",
    "To help you get started with this part of the exercise, you will first implement the sigmoid gradient function. The gradient for the sigmoid function can be computed as \n",
    "<center>$g'(z)=\\frac{d}{dz}g(z) = g(z)(1-g(z))$</center>\n",
    "where \n",
    "<center>$\\mathrm{sigmoid}(z)=g(z)=\\frac{1}{1+e^{-z}}$</center>"
   ]
  },
  {
   "cell_type": "code",
   "execution_count": 96,
   "metadata": {},
   "outputs": [],
   "source": [
    "def sigmoidGradient(z):\n",
    "    return sigmoid(z)*(1-sigmoid(z))"
   ]
  },
  {
   "cell_type": "code",
   "execution_count": 98,
   "metadata": {},
   "outputs": [
    {
     "data": {
      "text/plain": [
       "0.25"
      ]
     },
     "execution_count": 98,
     "metadata": {},
     "output_type": "execute_result"
    }
   ],
   "source": [
    "# Call your sigmoidGradient function\n",
    "sigmoidGradient(0)"
   ]
  },
  {
   "cell_type": "markdown",
   "metadata": {},
   "source": [
    "### 2.2 Random initialization\n",
    "When training neural networks, it is important to randomly initialize the parameters for symmetry breaking. One effective strategy for random initialization is to randomly select values for $\\Theta^{(l)}$ uniformly in the range $[-\\epsilon_{int},\\epsilon_{init}]$. You should use $\\epsilon_{init} = 0.12$*. This range of values ensures that the parameters are kept small and makes the learning more efficient. "
   ]
  },
  {
   "cell_type": "code",
   "execution_count": 101,
   "metadata": {},
   "outputs": [],
   "source": [
    "def randInitializeWeights(L_in, L_out):\n",
    "    epsilon_init = 0.12\n",
    "    W = np.random.rand(L_out, 1 + L_in)*2*epsilon_init - epsilon_init\n",
    "    return W"
   ]
  },
  {
   "cell_type": "code",
   "execution_count": 102,
   "metadata": {},
   "outputs": [],
   "source": [
    "initial_Theta1 = randInitializeWeights(input_layer_size, hidden_layer_size);\n",
    "initial_Theta2 = randInitializeWeights(hidden_layer_size, num_labels);\n",
    "\n",
    "#  Unroll parameters\n",
    "initial_nn_params = np.concatenate((initial_Theta1.flatten(), initial_Theta2.flatten()))"
   ]
  },
  {
   "cell_type": "markdown",
   "metadata": {},
   "source": [
    "*One effective strategy for choosing $\\epsilon_{init}$ is to base it on the number of units in the network. A good choice of $\\epsilon_{init}$ is $\\epsilon_{init} = \\frac{\\sqrt{6}}{\\sqrt{L_{in}+L_{out}}}$ where $L_{in} = s_l$ and $L_{out} = s_l+1$ are the number of units in the layers adjacent to $\\Theta^{(l)}$.\n",
    "\n",
    "### 2.3 Backpropagation\n",
    "Now, you will implement the backpropagation algorithm. Recall that the intuition behind the backpropagation algorithm is as follows. Given a training example $(x^{(t)}, y^{(t)})$, we will first run a 'forward pass' to compute all the  activations throughout the network, including the output value of the hypothesis $h_\\Theta(x)$. Then, for each node $j$ in layer $l$, we would like to compute an 'error term' $\\delta^{(l)}_j$ that measures how much that node was 'responsible' for any errors in our output. \n",
    "\n",
    "For an output node, we can directly measure the difference between the network's activation and the true target value, and use that to define $\\delta^{(3)}_j$ (since layer 3 is the output layer). For the hidden units, you will compute $\\delta^{(l)}_j$ based on a weighted average of the error terms of the nodes in layer $l+1$. \n",
    "\n",
    "In detail, here is the backpropagation algorithm (also depicted in Figure 3). You should implement steps 1 to 4 in a loop that processes one example at a time. Concretely, you should implement a for loop for t = 1:m and place steps 1-4 below inside the for loop, with the $t^{th}$ iteration performing the calculation on the $t^{th}$ training example $(x^{(t)}, y^{(t)})$. Step 5 will divide the accumulated gradients by $m$ to obtain the gradients for the neural network cost function.\n",
    "\n",
    "1. Set the input layer's values $(a^{(1)})$ to the -th training example $x^{(t)}$. Perform a feedforward pass (Figure 2), computing the activations $(z^{(2)}, a^{(2)}, z^{(3)}, a^{(3)})$ for layers 2 and 3. Note that you need to add a  term to ensure that the vectors of activations for layers $a^{(1)}$ and $a^{(2)}$ also include the bias unit. \n",
    "\n",
    "2. For each output unit $k$ in layer 3 (the output layer), set $\\delta^{(3)}_k = (a_k^{(3)}-y_k)$ where $y_k\\in \\{0, 1\\}$ indicates whether the current training example belongs to class $k$ $(y_k = 1)$, or if it belongs to a different class $(y_k = 0)$.You may find logical arrays helpful for this task (explained in the previous programming exercise).\n",
    "\n",
    "3. For the hidden layer $l=2$, set $\\delta^{(2)} = (\\Theta^{(2)})^T \\delta^{(3)}.*g'(z^{(2)})$\n",
    "\n",
    "4. Accumulate the gradient from this example using the following formula: $\\Delta^{(l)} = \\Delta^{(l)} + \\delta^{(l+1)} (a^{(l)})^T$. Note that you should skip or remove $\\delta_0^{(2)}$\n",
    "\n",
    "5. Obtain the (unregularized) gradient for the neural network cost function by dividing the accumulated gradients by $\\frac{1}{m}:$ $\\frac{\\partial}{\\partial\\Theta^{(l)}_{ij}} J(\\Theta)= D^{(l)}_{ij}= \\frac{1}{m}\\Delta^{(l)}_{ij}$"
   ]
  },
  {
   "cell_type": "code",
   "execution_count": 152,
   "metadata": {},
   "outputs": [],
   "source": [
    "def nnGradient(nn_params, input_layer_size, hidden_layer_size, num_labels, X, y, reg):\n",
    "    Theta1 = nn_params[:(input_layer_size+1)*hidden_layer_size].reshape(hidden_layer_size, input_layer_size+1)\n",
    "    Theta2 = nn_params[(input_layer_size+1)*hidden_layer_size:].reshape(num_labels, hidden_layer_size+1)\n",
    "    \n",
    "    m = X.shape[0]\n",
    "    \n",
    "    y_new = np.zeros((num_labels, m)) # (10*5000)\n",
    "    for i in range(m):\n",
    "        y_new[y[i]-1, i] = 1\n",
    "    \n",
    "    Theta1_grad = np.zeros(Theta1.shape)\n",
    "    Theta2_grad = np.zeros(Theta2.shape)\n",
    "    \n",
    "    X = np.concatenate((np.ones((m,1)), X), axis=1) \n",
    "    for t in range(m):\n",
    "        # Step 1\n",
    "        a1 = X[t, :] # (1*401)\n",
    "        z2 = np.dot(Theta1, np.array([a1]).T) # (25*401)*(401*1)\n",
    "        a2 = sigmoid(z2) # (25*1)\n",
    "        \n",
    "        a2 = np.concatenate((np.ones((1,1)), a2), axis=0) # adding a bias (26*1)\n",
    "        z3 = np.dot(Theta2, a2) # (10*26)*(26*1)\n",
    "        a3 = sigmoid(z3) # (10*1)\n",
    "        \n",
    "        # Step 2\n",
    "        delta_3 = a3 - y_new[:,t].reshape((10,1)) # (10*1)\n",
    "        \n",
    "        # Step 3\n",
    "        z2 = np.concatenate((np.ones((1,1)), z2), axis=0)\n",
    "        delta_2 = np.dot(Theta2.T, delta_3) * sigmoidGradient(z2) # ((26*10)*(10*1))=(26*1)\n",
    "        \n",
    "        # Step 4\n",
    "        delta_2 = delta_2[1:] # skipping sigma2(0) (25*1)\n",
    "\n",
    "        Theta2_grad = Theta2_grad + np.dot(delta_3, a2.T) # (10*1)*(1*26)\n",
    "        Theta1_grad = Theta1_grad + np.dot(delta_2, a1.reshape((1,401))) # (25*1)*(1*401)\n",
    "        \n",
    "    # Step 5\n",
    "    Theta2_grad = (1/m) * Theta2_grad # (10*26)\n",
    "    Theta1_grad = (1/m) * Theta1_grad # (25*401)\n",
    "    \n",
    "    Theta1_grad[:,1:] = Theta1_grad[:, 1:] + ((reg/m) * Theta1[:,1:]) # for j >= 1 \n",
    "    Theta2_grad[:,1:] = Theta2_grad[:, 1:] + ((reg/m) * Theta2[:,1:]) # for j >= 1 \n",
    "    \n",
    "    grad = np.concatenate((Theta1_grad.flatten(), Theta2_grad.flatten()))\n",
    "    return grad"
   ]
  },
  {
   "cell_type": "code",
   "execution_count": 153,
   "metadata": {},
   "outputs": [],
   "source": [
    "grad = nnGradient(initial_nn_params, input_layer_size, hidden_layer_size, num_labels, X, y, reg)"
   ]
  },
  {
   "cell_type": "code",
   "execution_count": 170,
   "metadata": {},
   "outputs": [
    {
     "data": {
      "text/plain": [
       "array([ 8.96387896e-03,  1.27428318e-05,  5.56429417e-07, -2.07790011e-05,\n",
       "        5.95264497e-06])"
      ]
     },
     "execution_count": 170,
     "metadata": {},
     "output_type": "execute_result"
    }
   ],
   "source": [
    "grad[:5]"
   ]
  },
  {
   "cell_type": "markdown",
   "metadata": {},
   "source": [
    "### 2.4 Gradient checking"
   ]
  },
  {
   "cell_type": "code",
   "execution_count": 171,
   "metadata": {},
   "outputs": [],
   "source": [
    "def computeNumericalGradient(J, theta):\n",
    "    numgrad = np.zeros(theta.shape) \n",
    "    perturb = np.zeros(theta.shape) \n",
    "    e = 1e-4 \n",
    "    # Check the first 5 grads\n",
    "    for p in range(5):\n",
    "        # Set perturbation vector\n",
    "        perturb[p] = e\n",
    "        loss1 = J(theta - perturb, input_layer_size, hidden_layer_size, num_labels, X, y, reg) \n",
    "        loss2 = J(theta + perturb, input_layer_size, hidden_layer_size, num_labels, X, y, reg) \n",
    "        # Compute Numerical Gradient\n",
    "        numgrad[p] = (loss2 - loss1) / (2*e) \n",
    "        perturb[p] = 0\n",
    "    return numgrad"
   ]
  },
  {
   "cell_type": "code",
   "execution_count": 172,
   "metadata": {},
   "outputs": [],
   "source": [
    "num_grad = computeNumericalGradient(nnCostFunction, initial_nn_params)"
   ]
  },
  {
   "cell_type": "code",
   "execution_count": 174,
   "metadata": {},
   "outputs": [
    {
     "data": {
      "text/plain": [
       "array([ 8.96387895e-03,  1.27428290e-05,  5.56430457e-07, -2.07790052e-05,\n",
       "        5.95264282e-06])"
      ]
     },
     "execution_count": 174,
     "metadata": {},
     "output_type": "execute_result"
    }
   ],
   "source": [
    "num_grad[:5]"
   ]
  },
  {
   "cell_type": "markdown",
   "metadata": {},
   "source": [
    "### 2.5 Regularized neural networks"
   ]
  },
  {
   "cell_type": "code",
   "execution_count": 175,
   "metadata": {},
   "outputs": [
    {
     "data": {
      "text/plain": [
       "array([ 8.96387896e-03,  3.82284953e-05,  1.66928825e-06, -6.23325591e-05,\n",
       "        1.78636072e-05])"
      ]
     },
     "execution_count": 175,
     "metadata": {},
     "output_type": "execute_result"
    },
    {
     "data": {
      "text/plain": [
       "array([ 8.96387895e-03,  3.82284915e-05,  1.66929137e-06, -6.23325658e-05,\n",
       "        1.78636039e-05])"
      ]
     },
     "execution_count": 175,
     "metadata": {},
     "output_type": "execute_result"
    }
   ],
   "source": [
    "reg = 3\n",
    "initial_nn_params = np.concatenate((initial_Theta1.flatten(), initial_Theta2.flatten()))\n",
    "grad = nnGradient(initial_nn_params, input_layer_size, hidden_layer_size, num_labels, X, y, reg)\n",
    "grad[:5]\n",
    "num_grad = computeNumericalGradient(nnCostFunction, initial_nn_params)\n",
    "num_grad[:5]"
   ]
  },
  {
   "cell_type": "code",
   "execution_count": 176,
   "metadata": {},
   "outputs": [],
   "source": [
    "reg = 3\n",
    "debug_J  = nnCostFunction(nn_params, input_layer_size, hidden_layer_size, num_labels, X, y, reg)"
   ]
  },
  {
   "cell_type": "code",
   "execution_count": 177,
   "metadata": {},
   "outputs": [
    {
     "data": {
      "text/plain": [
       "0.5760512469501331"
      ]
     },
     "execution_count": 177,
     "metadata": {},
     "output_type": "execute_result"
    }
   ],
   "source": [
    "debug_J"
   ]
  },
  {
   "cell_type": "code",
   "execution_count": null,
   "metadata": {},
   "outputs": [],
   "source": []
  }
 ],
 "metadata": {
  "kernelspec": {
   "display_name": "Python 3",
   "language": "python",
   "name": "python3"
  },
  "language_info": {
   "codemirror_mode": {
    "name": "ipython",
    "version": 3
   },
   "file_extension": ".py",
   "mimetype": "text/x-python",
   "name": "python",
   "nbconvert_exporter": "python",
   "pygments_lexer": "ipython3",
   "version": "3.6.5"
  }
 },
 "nbformat": 4,
 "nbformat_minor": 2
}
