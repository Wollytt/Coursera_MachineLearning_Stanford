{
 "cells": [
  {
   "cell_type": "code",
   "execution_count": 1,
   "metadata": {},
   "outputs": [],
   "source": [
    "from IPython.core.interactiveshell import InteractiveShell\n",
    "InteractiveShell.ast_node_interactivity = \"all\"\n",
    "import warnings\n",
    "warnings.filterwarnings('ignore')"
   ]
  },
  {
   "cell_type": "code",
   "execution_count": 233,
   "metadata": {},
   "outputs": [],
   "source": [
    "import pandas as pd\n",
    "import scipy.io\n",
    "import matplotlib.pyplot as plt\n",
    "import math\n",
    "import numpy as np\n",
    "from scipy.optimize import minimize"
   ]
  },
  {
   "cell_type": "markdown",
   "metadata": {},
   "source": [
    "## Machine Learning: Programming Exercise 5\n",
    "## Regularized Linear Regression and Bias vs. Variance\n",
    "In this exercise, you will implement regularized linear regression and use it to study models with different bias-variance properties.\n",
    "## 1. Regularized Linear Regression\n",
    "### 1.1 Visualizing the dataset\n",
    "1. A training set that your model will learn on: X, y\n",
    "2. A cross validation set for determining the regularization parameter: Xval, yval\n",
    "3. A test set for evaluating performance. These are 'unseen' examples which your model did not see during training: Xtest, ytest"
   ]
  },
  {
   "cell_type": "code",
   "execution_count": 105,
   "metadata": {},
   "outputs": [],
   "source": [
    "mat = scipy.io.loadmat('ex5data1.mat')\n",
    "X = mat['X']\n",
    "y = mat['y']\n",
    "Xval = mat['Xval']\n",
    "yval = mat['yval']\n",
    "Xtest = mat['Xtest']\n",
    "ytest = mat['ytest']"
   ]
  },
  {
   "cell_type": "code",
   "execution_count": 106,
   "metadata": {},
   "outputs": [
    {
     "data": {
      "text/plain": [
       "(12, 1)"
      ]
     },
     "execution_count": 106,
     "metadata": {},
     "output_type": "execute_result"
    }
   ],
   "source": [
    "X.shape"
   ]
  },
  {
   "cell_type": "code",
   "execution_count": 107,
   "metadata": {},
   "outputs": [
    {
     "data": {
      "text/plain": [
       "<Figure size 432x360 with 0 Axes>"
      ]
     },
     "execution_count": 107,
     "metadata": {},
     "output_type": "execute_result"
    },
    {
     "data": {
      "text/plain": [
       "<matplotlib.collections.PathCollection at 0x132388f630>"
      ]
     },
     "execution_count": 107,
     "metadata": {},
     "output_type": "execute_result"
    },
    {
     "data": {
      "text/plain": [
       "Text(0.5, 0, 'Change in water level (x)')"
      ]
     },
     "execution_count": 107,
     "metadata": {},
     "output_type": "execute_result"
    },
    {
     "data": {
      "text/plain": [
       "Text(0, 0.5, 'Water flowing out of the dam (y)')"
      ]
     },
     "execution_count": 107,
     "metadata": {},
     "output_type": "execute_result"
    },
    {
     "data": {
      "image/png": "[encoded data removed]",
      "text/plain": [
       "<Figure size 432x360 with 1 Axes>"
      ]
     },
     "metadata": {
      "needs_background": "light"
     },
     "output_type": "display_data"
    }
   ],
   "source": [
    "plt.figure(figsize=(6,5))\n",
    "plt.scatter(x = X, y =y, marker='+', c='red')\n",
    "plt.xlabel('Change in water level (x)')\n",
    "plt.ylabel('Water flowing out of the dam (y)')"
   ]
  },
  {
   "cell_type": "markdown",
   "metadata": {},
   "source": [
    "### 1.2 Regularized linear regression cost function"
   ]
  },
  {
   "cell_type": "code",
   "execution_count": 120,
   "metadata": {},
   "outputs": [],
   "source": [
    "def linearRegCostFunction(theta, X, y, reg):\n",
    "    m = X.shape[0]\n",
    "    h_theta = np.dot(X, theta)\n",
    "    J = 1/(2*m) * np.dot((h_theta-y).T, h_theta-y) + (reg/(2*m)) * np.dot(theta[1:].T, theta[1:])\n",
    "    return J\n",
    "\n",
    "def linearGradient(theta, X, y, reg):\n",
    "    m = X.shape[0]\n",
    "    h_theta = np.dot(X, theta)\n",
    "    temp = theta.copy()\n",
    "    temp[0] = 0\n",
    "    grad = (1 / m) * np.dot(X.T, (h_theta - y)) + reg / m * temp\n",
    "    return grad"
   ]
  },
  {
   "cell_type": "code",
   "execution_count": 121,
   "metadata": {},
   "outputs": [
    {
     "name": "stdout",
     "output_type": "stream",
     "text": [
      "Cost at theta = [1 ; 1]:  [[303.99319222]]\n"
     ]
    }
   ],
   "source": [
    "theta = np.ones((2,1))\n",
    "m = X.shape[0]\n",
    "J = linearRegCostFunction(theta, np.concatenate((np.ones((m,1)), X), axis=1), y, 1)\n",
    "print('Cost at theta = [1 ; 1]: ', J)"
   ]
  },
  {
   "cell_type": "markdown",
   "metadata": {},
   "source": [
    "### 1.3 Regularized linear regression gradient"
   ]
  },
  {
   "cell_type": "code",
   "execution_count": 122,
   "metadata": {},
   "outputs": [
    {
     "name": "stdout",
     "output_type": "stream",
     "text": [
      "Gradient at theta = [1 ; 1]:   [[-15.30301567]\n",
      " [598.25074417]]\n"
     ]
    }
   ],
   "source": [
    "grad = linearGradient(theta, np.concatenate((np.ones((m,1)), X), axis=1), y, 1)\n",
    "print('Gradient at theta = [1 ; 1]:  ',grad)"
   ]
  },
  {
   "cell_type": "markdown",
   "metadata": {},
   "source": [
    "### 1.4 Fitting linear regression"
   ]
  },
  {
   "cell_type": "code",
   "execution_count": 239,
   "metadata": {
    "scrolled": true
   },
   "outputs": [],
   "source": [
    "def trainLinearReg(X, y, reg):\n",
    "    # Initialize Theta\n",
    "    initial_theta = np.zeros((X.shape[1], 1))\n",
    "    # Minimize using fmin_tnc\n",
    "#     opt_weights = fmin_cg(linearRegCostFunction, x0=initial_theta, \n",
    "#                            fprime=linearGradient, args=(X, y.flatten(), reg))\n",
    "    opt_weights = minimize(fun = linearRegCostFunction, x0 = initial_theta, \n",
    "                            args = (X, y.flatten(), reg),method = 'TNC', jac = linearGradient)\n",
    "    return opt_weights.x"
   ]
  },
  {
   "cell_type": "code",
   "execution_count": 240,
   "metadata": {
    "scrolled": true
   },
   "outputs": [],
   "source": [
    "reg = 0\n",
    "theta = trainLinearReg(np.concatenate((np.ones((m,1)), X), axis=1), y, reg)"
   ]
  },
  {
   "cell_type": "code",
   "execution_count": 241,
   "metadata": {},
   "outputs": [
    {
     "data": {
      "text/plain": [
       "<Figure size 432x360 with 0 Axes>"
      ]
     },
     "execution_count": 241,
     "metadata": {},
     "output_type": "execute_result"
    },
    {
     "data": {
      "text/plain": [
       "<matplotlib.collections.PathCollection at 0x1a24d560b8>"
      ]
     },
     "execution_count": 241,
     "metadata": {},
     "output_type": "execute_result"
    },
    {
     "data": {
      "text/plain": [
       "[<matplotlib.lines.Line2D at 0x1a24d565c0>]"
      ]
     },
     "execution_count": 241,
     "metadata": {},
     "output_type": "execute_result"
    },
    {
     "data": {
      "text/plain": [
       "Text(0.5, 0, 'Change in water level (x)')"
      ]
     },
     "execution_count": 241,
     "metadata": {},
     "output_type": "execute_result"
    },
    {
     "data": {
      "text/plain": [
       "Text(0, 0.5, 'Water flowing out of the dam (y)')"
      ]
     },
     "execution_count": 241,
     "metadata": {},
     "output_type": "execute_result"
    },
    {
     "data": {
      "image/png": "[encoded data removed]",
      "text/plain": [
       "<Figure size 432x360 with 1 Axes>"
      ]
     },
     "metadata": {
      "needs_background": "light"
     },
     "output_type": "display_data"
    }
   ],
   "source": [
    "plt.figure(figsize=(6,5))\n",
    "plt.scatter(x = X, y =y, marker='+', c='red')\n",
    "plt.plot(X, np.dot(np.concatenate((np.ones((m,1)), X), axis=1), theta), c='blue')\n",
    "plt.xlabel('Change in water level (x)')\n",
    "plt.ylabel('Water flowing out of the dam (y)')"
   ]
  },
  {
   "cell_type": "markdown",
   "metadata": {},
   "source": [
    "## 2. Bias-variance\n",
    "### 2.1 Learning curves"
   ]
  },
  {
   "cell_type": "code",
   "execution_count": 253,
   "metadata": {},
   "outputs": [],
   "source": [
    "def learningCurve(X, y, Xval, yval, reg):\n",
    "    m = X.shape[0]\n",
    "    error_train = []\n",
    "    error_val = []\n",
    "    for i in range(m):\n",
    "        sub_X = X[:i+1]\n",
    "        sub_y = y[:i+1]\n",
    "        theta = trainLinearReg(sub_X, sub_y, reg)\n",
    "        theta = theta.reshape(X.shape[1], 1)\n",
    "        error_train.append(linearRegCostFunction(theta, sub_X, sub_y, 0)[0,0])\n",
    "        error_val.append(linearRegCostFunction(theta, Xval, yval, 0)[0,0])\n",
    "    return error_train, error_val"
   ]
  },
  {
   "cell_type": "code",
   "execution_count": 243,
   "metadata": {},
   "outputs": [],
   "source": [
    "reg = 0\n",
    "m = X.shape[0]\n",
    "n = Xval.shape[0]\n",
    "error_train, error_val = learningCurve(np.concatenate((np.ones((m,1)), X), axis=1), y, \n",
    "                                    np.concatenate((np.ones((n,1)), Xval), axis=1), yval, reg)"
   ]
  },
  {
   "cell_type": "code",
   "execution_count": 244,
   "metadata": {},
   "outputs": [
    {
     "data": {
      "text/plain": [
       "<Figure size 432x360 with 0 Axes>"
      ]
     },
     "execution_count": 244,
     "metadata": {},
     "output_type": "execute_result"
    },
    {
     "data": {
      "text/plain": [
       "[<matplotlib.lines.Line2D at 0x1a24eca550>]"
      ]
     },
     "execution_count": 244,
     "metadata": {},
     "output_type": "execute_result"
    },
    {
     "data": {
      "text/plain": [
       "[<matplotlib.lines.Line2D at 0x1a24eca978>]"
      ]
     },
     "execution_count": 244,
     "metadata": {},
     "output_type": "execute_result"
    },
    {
     "data": {
      "text/plain": [
       "Text(0.5, 0, 'Number of training examples')"
      ]
     },
     "execution_count": 244,
     "metadata": {},
     "output_type": "execute_result"
    },
    {
     "data": {
      "text/plain": [
       "Text(0, 0.5, 'Error')"
      ]
     },
     "execution_count": 244,
     "metadata": {},
     "output_type": "execute_result"
    },
    {
     "data": {
      "text/plain": [
       "Text(0.5, 1.0, 'Learning curve for linear regression')"
      ]
     },
     "execution_count": 244,
     "metadata": {},
     "output_type": "execute_result"
    },
    {
     "data": {
      "text/plain": [
       "<matplotlib.legend.Legend at 0x1a24e0f080>"
      ]
     },
     "execution_count": 244,
     "metadata": {},
     "output_type": "execute_result"
    },
    {
     "data": {
      "image/png": "[encoded data removed]",
      "text/plain": [
       "<Figure size 432x360 with 1 Axes>"
      ]
     },
     "metadata": {
      "needs_background": "light"
     },
     "output_type": "display_data"
    }
   ],
   "source": [
    "plt.figure(figsize=(6,5))\n",
    "plt.plot(range(m), error_train, c='blue', label='Train')\n",
    "plt.plot(range(m), error_val, c='red', label='Cross Validation')\n",
    "plt.xlabel('Number of training examples')\n",
    "plt.ylabel('Error')\n",
    "plt.title('Learning curve for linear regression')\n",
    "plt.legend()"
   ]
  },
  {
   "cell_type": "markdown",
   "metadata": {},
   "source": [
    "## 3. Polynomial regression\n",
    "the function maps the original training set $X$ of size $m*1$ into its higher powers. Specifically, when a training set $X$ of size $m*1$ is passed into the function, the function should return a $m*p$ matrix $X_{poly}$, where column 1 holds the original values of $X$, column 2 holds the values of $X^2$, column 3 holds the values of $X^3$, and so on."
   ]
  },
  {
   "cell_type": "code",
   "execution_count": 245,
   "metadata": {},
   "outputs": [],
   "source": [
    "def polyFeatures(X, p):\n",
    "    m = X.shape[0]\n",
    "    X_poly = np.zeros((m, p))\n",
    "    for i in range(p):\n",
    "        X_poly[:, i] = (X**(i+1)).flatten()\n",
    "    return X_poly\n",
    "\n",
    "def featureNormalize(X):\n",
    "    mu = np.mean(X, axis=0)\n",
    "    X = X-mu\n",
    "    sigma = np.std(X, axis=0, ddof=1)\n",
    "    X_trans = X/sigma\n",
    "    return X_trans, mu, sigma"
   ]
  },
  {
   "cell_type": "code",
   "execution_count": 246,
   "metadata": {},
   "outputs": [
    {
     "name": "stdout",
     "output_type": "stream",
     "text": [
      "Normalized Training Example 1:  [ 1.         -0.36214078 -0.75508669  0.18222588 -0.70618991  0.30661792\n",
      " -0.59087767  0.3445158  -0.50848117]\n"
     ]
    }
   ],
   "source": [
    "p = 8\n",
    "\n",
    "# Map X onto Polynomial Features and Normalize\n",
    "X_poly = polyFeatures(X, p) \n",
    "X_poly, mu, sigma = featureNormalize(X_poly)   # Normalize\n",
    "X_poly = np.concatenate((np.ones((m,1)), X_poly), axis=1)    # Add Ones\n",
    "\n",
    "# # Map X_poly_test and normalize (using mu and sigma)\n",
    "X_poly_test = polyFeatures(Xtest, p) \n",
    "X_poly_test = X_poly_test-mu  # uses implicit expansion instead of bsxfun\n",
    "X_poly_test = X_poly_test/sigma  # uses implicit expansion instead of bsxfun\n",
    "X_poly_test = np.concatenate((np.ones((X_poly_test.shape[0],1)), X_poly_test), axis=1)  # Add Ones\n",
    "\n",
    "# Map X_poly_val and normalize (using mu and sigma)\n",
    "X_poly_val = polyFeatures(Xval, p) \n",
    "X_poly_val = X_poly_val-mu  # uses implicit expansion instead of bsxfun\n",
    "X_poly_val = X_poly_val/sigma  # uses implicit expansion instead of bsxfun\n",
    "X_poly_val = np.concatenate((np.ones((X_poly_val.shape[0],1)), X_poly_val), axis=1)  # Add Ones\n",
    "\n",
    "print('Normalized Training Example 1: ', X_poly[0,:]) "
   ]
  },
  {
   "cell_type": "code",
   "execution_count": 247,
   "metadata": {},
   "outputs": [],
   "source": [
    "reg = 0\n",
    "theta = trainLinearReg(X_poly, y, reg)"
   ]
  },
  {
   "cell_type": "code",
   "execution_count": 248,
   "metadata": {},
   "outputs": [
    {
     "data": {
      "text/plain": [
       "array([ 11.22056109,  10.64491797,  20.94875183,  19.01939376,\n",
       "       -40.85269808, -46.26854892,  37.1359107 ,  36.85071514,\n",
       "        -3.18640552])"
      ]
     },
     "execution_count": 248,
     "metadata": {},
     "output_type": "execute_result"
    }
   ],
   "source": [
    "theta"
   ]
  },
  {
   "cell_type": "code",
   "execution_count": 255,
   "metadata": {},
   "outputs": [
    {
     "data": {
      "text/plain": [
       "<Figure size 432x360 with 0 Axes>"
      ]
     },
     "execution_count": 255,
     "metadata": {},
     "output_type": "execute_result"
    },
    {
     "data": {
      "text/plain": [
       "<matplotlib.collections.PathCollection at 0x1a25105978>"
      ]
     },
     "execution_count": 255,
     "metadata": {},
     "output_type": "execute_result"
    },
    {
     "data": {
      "text/plain": [
       "[<matplotlib.lines.Line2D at 0x1a250af4a8>]"
      ]
     },
     "execution_count": 255,
     "metadata": {},
     "output_type": "execute_result"
    },
    {
     "data": {
      "text/plain": [
       "Text(0.5, 0, 'Change in water level (x)')"
      ]
     },
     "execution_count": 255,
     "metadata": {},
     "output_type": "execute_result"
    },
    {
     "data": {
      "text/plain": [
       "Text(0, 0.5, 'Water flowing out of the dam (y)')"
      ]
     },
     "execution_count": 255,
     "metadata": {},
     "output_type": "execute_result"
    },
    {
     "data": {
      "text/plain": [
       "Text(0.5, 1.0, 'Polynomial Regression Fit')"
      ]
     },
     "execution_count": 255,
     "metadata": {},
     "output_type": "execute_result"
    },
    {
     "data": {
      "image/png": "[encoded data removed]",
      "text/plain": [
       "<Figure size 432x360 with 1 Axes>"
      ]
     },
     "metadata": {
      "needs_background": "light"
     },
     "output_type": "display_data"
    }
   ],
   "source": [
    "# create consecutive x values to plot polynomial fit\n",
    "x_values = np.array(range(-60, 60)).reshape(120, 1)\n",
    "x_values_poly = polyFeatures(x_values, p) \n",
    "x_values_poly = x_values_poly-mu\n",
    "x_values_poly = x_values_poly/sigma  \n",
    "x_values_poly = np.concatenate((np.ones((120,1)), x_values_poly), axis=1) \n",
    "\n",
    "plt.figure(figsize=(6,5))\n",
    "plt.scatter(x = X, y =y, marker='+', c='red')\n",
    "plt.plot(x_values, np.dot(x_values_poly, theta), c='blue')\n",
    "plt.xlabel('Change in water level (x)')\n",
    "plt.ylabel('Water flowing out of the dam (y)')\n",
    "plt.title('Polynomial Regression Fit')"
   ]
  },
  {
   "cell_type": "code",
   "execution_count": 254,
   "metadata": {},
   "outputs": [],
   "source": [
    "error_train, error_val = learningCurve(X_poly, y, X_poly_val, yval, reg)"
   ]
  },
  {
   "cell_type": "code",
   "execution_count": 256,
   "metadata": {},
   "outputs": [
    {
     "data": {
      "text/plain": [
       "<Figure size 432x360 with 0 Axes>"
      ]
     },
     "execution_count": 256,
     "metadata": {},
     "output_type": "execute_result"
    },
    {
     "data": {
      "text/plain": [
       "[<matplotlib.lines.Line2D at 0x1a25283978>]"
      ]
     },
     "execution_count": 256,
     "metadata": {},
     "output_type": "execute_result"
    },
    {
     "data": {
      "text/plain": [
       "[<matplotlib.lines.Line2D at 0x1a251d1828>]"
      ]
     },
     "execution_count": 256,
     "metadata": {},
     "output_type": "execute_result"
    },
    {
     "data": {
      "text/plain": [
       "Text(0.5, 0, 'Number of training examples')"
      ]
     },
     "execution_count": 256,
     "metadata": {},
     "output_type": "execute_result"
    },
    {
     "data": {
      "text/plain": [
       "Text(0, 0.5, 'Error')"
      ]
     },
     "execution_count": 256,
     "metadata": {},
     "output_type": "execute_result"
    },
    {
     "data": {
      "text/plain": [
       "Text(0.5, 1.0, 'Polynomial Regression Learning Curve')"
      ]
     },
     "execution_count": 256,
     "metadata": {},
     "output_type": "execute_result"
    },
    {
     "data": {
      "text/plain": [
       "<matplotlib.legend.Legend at 0x1a251d6358>"
      ]
     },
     "execution_count": 256,
     "metadata": {},
     "output_type": "execute_result"
    },
    {
     "data": {
      "image/png": "[encoded data removed]",
      "text/plain": [
       "<Figure size 432x360 with 1 Axes>"
      ]
     },
     "metadata": {
      "needs_background": "light"
     },
     "output_type": "display_data"
    }
   ],
   "source": [
    "plt.figure(figsize=(6,5))\n",
    "plt.plot(range(m), error_train, c='blue', label='Train')\n",
    "plt.plot(range(m), error_val, c='red', label='Cross Validation')\n",
    "plt.xlabel('Number of training examples')\n",
    "plt.ylabel('Error')\n",
    "plt.title('Polynomial Regression Learning Curve')\n",
    "plt.legend()"
   ]
  },
  {
   "cell_type": "code",
   "execution_count": 257,
   "metadata": {},
   "outputs": [
    {
     "data": {
      "text/plain": [
       "0.08717948717948718"
      ]
     },
     "execution_count": 257,
     "metadata": {},
     "output_type": "execute_result"
    }
   ],
   "source": [
    "85/(890+85)"
   ]
  },
  {
   "cell_type": "code",
   "execution_count": null,
   "metadata": {},
   "outputs": [],
   "source": []
  }
 ],
 "metadata": {
  "kernelspec": {
   "display_name": "Python 3",
   "language": "python",
   "name": "python3"
  },
  "language_info": {
   "codemirror_mode": {
    "name": "ipython",
    "version": 3
   },
   "file_extension": ".py",
   "mimetype": "text/x-python",
   "name": "python",
   "nbconvert_exporter": "python",
   "pygments_lexer": "ipython3",
   "version": "3.6.5"
  }
 },
 "nbformat": 4,
 "nbformat_minor": 2
}
