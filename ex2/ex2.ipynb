{
 "cells": [
  {
   "cell_type": "code",
   "execution_count": 1,
   "metadata": {},
   "outputs": [],
   "source": [
    "from IPython.core.interactiveshell import InteractiveShell\n",
    "InteractiveShell.ast_node_interactivity = \"all\"\n",
    "import warnings\n",
    "warnings.filterwarnings('ignore')"
   ]
  },
  {
   "cell_type": "code",
   "execution_count": 2,
   "metadata": {},
   "outputs": [],
   "source": [
    "import pandas as pd\n",
    "import matplotlib.pyplot as plt\n",
    "import numpy as np\n",
    "from scipy.optimize import minimize, fmin_tnc, fsolve"
   ]
  },
  {
   "cell_type": "markdown",
   "metadata": {},
   "source": [
    "## Machine Learning: Programming Exercise 2"
   ]
  },
  {
   "cell_type": "markdown",
   "metadata": {},
   "source": [
    "## 1. Logistic Regression\n",
    "In this part of the exercise, you will build a logistic regression model to predict whether a student gets admitted into a university. Suppose that you are the administrator of a university department and you want to determine each applicant's chance of admission based on their results on two exams. You have historical data from previous applicants that you can use as a training set for logistic regression. For each training example, you have the applicant's scores on two exams and the admissions decision.\n",
    "    Your task is to build a classification model that estimates an applicant's probability of admission based the scores from those two exams. ex2.mlx will guide you through the exercise. To begin, run the code below to load the data into MATLAB."
   ]
  },
  {
   "cell_type": "code",
   "execution_count": 3,
   "metadata": {
    "scrolled": true
   },
   "outputs": [],
   "source": [
    "## Load Data\n",
    "## The first two columns contain the exam scores and the third column contains the label.\n",
    "data = pd.read_csv(\"ex2data1.txt\", header=None, sep=\",\");\n",
    "X = np.array(data.iloc[:, 0:2]) \n",
    "y = np.array([data.iloc[:,2].values]).T"
   ]
  },
  {
   "cell_type": "markdown",
   "metadata": {},
   "source": [
    "### 1.1 Visualizing the data"
   ]
  },
  {
   "cell_type": "code",
   "execution_count": 4,
   "metadata": {},
   "outputs": [
    {
     "data": {
      "text/plain": [
       "<Figure size 432x360 with 0 Axes>"
      ]
     },
     "execution_count": 4,
     "metadata": {},
     "output_type": "execute_result"
    },
    {
     "data": {
      "text/plain": [
       "<matplotlib.collections.PathCollection at 0x101ef25908>"
      ]
     },
     "execution_count": 4,
     "metadata": {},
     "output_type": "execute_result"
    },
    {
     "data": {
      "text/plain": [
       "<matplotlib.collections.PathCollection at 0x101ef25f28>"
      ]
     },
     "execution_count": 4,
     "metadata": {},
     "output_type": "execute_result"
    },
    {
     "data": {
      "text/plain": [
       "Text(0.5, 0, 'Exam 1 score')"
      ]
     },
     "execution_count": 4,
     "metadata": {},
     "output_type": "execute_result"
    },
    {
     "data": {
      "text/plain": [
       "Text(0, 0.5, 'Exam 2 score')"
      ]
     },
     "execution_count": 4,
     "metadata": {},
     "output_type": "execute_result"
    },
    {
     "data": {
      "text/plain": [
       "<matplotlib.legend.Legend at 0x101ef25e48>"
      ]
     },
     "execution_count": 4,
     "metadata": {},
     "output_type": "execute_result"
    },
    {
     "data": {
      "image/png": "[encoded data removed]",
      "text/plain": [
       "<Figure size 432x360 with 1 Axes>"
      ]
     },
     "metadata": {
      "needs_background": "light"
     },
     "output_type": "display_data"
    }
   ],
   "source": [
    "pos = data[data.iloc[:,2] == 1]\n",
    "neg = data[data.iloc[:,2] == 0]\n",
    "plt.figure(figsize=(6,5))\n",
    "plt.scatter(x = pos.iloc[:,0], y =pos.iloc[:,1], marker='+', c='black', label='Admitted')\n",
    "plt.scatter(x = neg.iloc[:,0], y =neg.iloc[:,1], marker='o', c='yellow', edgecolor='black', label='Not Admitted')\n",
    "plt.xlabel('Exam 1 score')\n",
    "plt.ylabel('Exam 2 score')\n",
    "plt.legend()"
   ]
  },
  {
   "cell_type": "markdown",
   "metadata": {},
   "source": [
    "### 1.2 Implementation\n",
    "#### 1.2.1 Warmup exercise: sigmoid function\n",
    "Before you start with the actual cost function, recall that the logistic regression hypothesis is defined as:\n",
    "\n",
    "<center> $h_{\\theta}(x) = g(\\theta^Tx)$ </center> \n",
    "\n",
    "where function  is the sigmoid function. The sigmoid function is defined as:\n",
    "\n",
    "<center> $g(z) = \\frac{1}{1+e^{-z}}$ </center> \n",
    "\n",
    "Your first step is to implement this function in sigmoid.m so it can be called by the rest of your program. When you are finished, try testing a few values by calling sigmoid(x) in the code section below. For large positive values of x, the sigmoid should be close to 1, while for large negative values, the sigmoid should be close to 0. Evaluating sigmoid(0) should give you exactly 0.5. \n",
    "\n",
    "Your code should also work with vectors and matrices. For a matrix, your function should perform the sigmoid function on every element."
   ]
  },
  {
   "cell_type": "code",
   "execution_count": 33,
   "metadata": {},
   "outputs": [],
   "source": [
    "def sigmoid(z):\n",
    "    return 1/(1+np.exp(-1.*z))"
   ]
  },
  {
   "cell_type": "markdown",
   "metadata": {},
   "source": [
    "#### 1.2.2 Cost Function and Gradient"
   ]
  },
  {
   "cell_type": "code",
   "execution_count": 6,
   "metadata": {},
   "outputs": [],
   "source": [
    "def costFunction(theta, X, y):\n",
    "    m = len(y)\n",
    "    \n",
    "    h_theta = sigmoid(np.dot(X,theta))\n",
    "    J = -(np.dot(y.T, np.log(h_theta))+np.dot((1-y).T, np.log(1-h_theta)))/m\n",
    "    return J\n",
    "\n",
    "def gradient(theta, X, y):\n",
    "    m = len(y)\n",
    "    h_theta = sigmoid(np.dot(X,theta))\n",
    "    grad = (1/m)*np.dot((h_theta - y).T, X)\n",
    "    \n",
    "    return grad"
   ]
  },
  {
   "cell_type": "code",
   "execution_count": 7,
   "metadata": {},
   "outputs": [],
   "source": [
    "(m, n) = X.shape;\n",
    "\n",
    "# Add intercept term to X\n",
    "X = np.concatenate((np.ones((m,1)), X), axis=1)\n",
    "\n",
    "initial_theta = np.zeros((n + 1, 1))"
   ]
  },
  {
   "cell_type": "code",
   "execution_count": 8,
   "metadata": {
    "scrolled": true
   },
   "outputs": [
    {
     "name": "stdout",
     "output_type": "stream",
     "text": [
      "Cost at initial theta (zeros): 0.693147\n",
      "Gradient at initial theta (zeros):  [[ -0.1        -12.00921659 -11.26284221]]\n"
     ]
    }
   ],
   "source": [
    "# Compute and display the initial cost and gradient\n",
    "cost = costFunction(initial_theta, X, y)\n",
    "grad = gradient(initial_theta, X, y)\n",
    "print('Cost at initial theta (zeros): %f'%cost)\n",
    "print('Gradient at initial theta (zeros): ', grad)"
   ]
  },
  {
   "cell_type": "markdown",
   "metadata": {},
   "source": [
    "#### 1.2.3 Learning parameters using fmin_tnc"
   ]
  },
  {
   "cell_type": "code",
   "execution_count": 9,
   "metadata": {
    "scrolled": true
   },
   "outputs": [],
   "source": [
    "def fit(theta, X, y):\n",
    "    opt_weights = fmin_tnc(func=costFunction, x0=theta, fprime=gradient, args=(X, y.flatten()))\n",
    "    return opt_weights[0]\n",
    "theta = fit(initial_theta, X, y)"
   ]
  },
  {
   "cell_type": "code",
   "execution_count": 10,
   "metadata": {},
   "outputs": [
    {
     "data": {
      "text/plain": [
       "array([-25.16131873,   0.20623159,   0.20147149])"
      ]
     },
     "execution_count": 10,
     "metadata": {},
     "output_type": "execute_result"
    }
   ],
   "source": [
    "theta"
   ]
  },
  {
   "cell_type": "code",
   "execution_count": 11,
   "metadata": {},
   "outputs": [],
   "source": [
    "line_vals = (-theta[0]-theta[1]*data.iloc[:,0])/theta[2]"
   ]
  },
  {
   "cell_type": "code",
   "execution_count": 12,
   "metadata": {},
   "outputs": [
    {
     "data": {
      "text/plain": [
       "<Figure size 432x360 with 0 Axes>"
      ]
     },
     "execution_count": 12,
     "metadata": {},
     "output_type": "execute_result"
    },
    {
     "data": {
      "text/plain": [
       "<matplotlib.collections.PathCollection at 0x1079f66d8>"
      ]
     },
     "execution_count": 12,
     "metadata": {},
     "output_type": "execute_result"
    },
    {
     "data": {
      "text/plain": [
       "<matplotlib.collections.PathCollection at 0x107a17dd8>"
      ]
     },
     "execution_count": 12,
     "metadata": {},
     "output_type": "execute_result"
    },
    {
     "data": {
      "text/plain": [
       "[<matplotlib.lines.Line2D at 0x101ceabe80>]"
      ]
     },
     "execution_count": 12,
     "metadata": {},
     "output_type": "execute_result"
    },
    {
     "data": {
      "text/plain": [
       "Text(0.5, 0, 'Exam 1 score')"
      ]
     },
     "execution_count": 12,
     "metadata": {},
     "output_type": "execute_result"
    },
    {
     "data": {
      "text/plain": [
       "Text(0, 0.5, 'Exam 2 score')"
      ]
     },
     "execution_count": 12,
     "metadata": {},
     "output_type": "execute_result"
    },
    {
     "data": {
      "text/plain": [
       "<matplotlib.legend.Legend at 0x1079e1438>"
      ]
     },
     "execution_count": 12,
     "metadata": {},
     "output_type": "execute_result"
    },
    {
     "data": {
      "image/png": "[encoded data removed]",
      "text/plain": [
       "<Figure size 432x360 with 1 Axes>"
      ]
     },
     "metadata": {
      "needs_background": "light"
     },
     "output_type": "display_data"
    }
   ],
   "source": [
    "# Plot Boundary\n",
    "\n",
    "pos = data[data.iloc[:,2] == 1]\n",
    "neg = data[data.iloc[:,2] == 0]\n",
    "plt.figure(figsize=(6,5))\n",
    "plt.scatter(x = pos.iloc[:,0], y =pos.iloc[:,1], marker='+', c='black', label='Admitted')\n",
    "plt.scatter(x = neg.iloc[:,0], y =neg.iloc[:,1], marker='o', c='yellow', edgecolor='black', label='Not Admitted')\n",
    "plt.plot(data.iloc[:,0], line_vals, c='blue', label='Boundary')\n",
    "plt.xlabel('Exam 1 score')\n",
    "plt.ylabel('Exam 2 score')\n",
    "plt.legend()"
   ]
  },
  {
   "cell_type": "markdown",
   "metadata": {},
   "source": [
    "#### 1.2.4 Evaluating logistic regression"
   ]
  },
  {
   "cell_type": "code",
   "execution_count": 13,
   "metadata": {},
   "outputs": [
    {
     "name": "stdout",
     "output_type": "stream",
     "text": [
      "For a student with scores 45 and 85, we predict an admission probability of 0.776291\n"
     ]
    }
   ],
   "source": [
    "# Predict probability for a student with score 45 on exam 1  and score 85 on exam 2 \n",
    "prob = sigmoid(np.dot(np.array([1,45, 85]).T, theta))\n",
    "print('For a student with scores 45 and 85, we predict an admission probability of %f'%prob)"
   ]
  },
  {
   "cell_type": "code",
   "execution_count": 14,
   "metadata": {},
   "outputs": [],
   "source": [
    "def predict(theta, X):\n",
    "    return sigmoid(np.dot(X, theta)) >= 0.5"
   ]
  },
  {
   "cell_type": "code",
   "execution_count": 15,
   "metadata": {},
   "outputs": [
    {
     "name": "stdout",
     "output_type": "stream",
     "text": [
      "Train Accuracy:  52.2\n"
     ]
    }
   ],
   "source": [
    "# Compute accuracy on our training set\n",
    "p = predict(theta, X)\n",
    "print('Train Accuracy: ', np.mean((p == y)) * 100);"
   ]
  },
  {
   "cell_type": "markdown",
   "metadata": {},
   "source": [
    "## 2. Regularized logistic regression"
   ]
  },
  {
   "cell_type": "code",
   "execution_count": 16,
   "metadata": {},
   "outputs": [],
   "source": [
    "## Load Data\n",
    "## The first two columns contain the exam scores and the third column contains the label.\n",
    "data = pd.read_csv(\"ex2data2.txt\", header=None, sep=\",\");\n",
    "X = np.array(data.iloc[:, 0:2]) \n",
    "y = np.array([data.iloc[:,2].values]).T"
   ]
  },
  {
   "cell_type": "markdown",
   "metadata": {},
   "source": [
    "### 2.1 Visualizing the data"
   ]
  },
  {
   "cell_type": "code",
   "execution_count": 17,
   "metadata": {},
   "outputs": [
    {
     "data": {
      "text/plain": [
       "<Figure size 432x360 with 0 Axes>"
      ]
     },
     "execution_count": 17,
     "metadata": {},
     "output_type": "execute_result"
    },
    {
     "data": {
      "text/plain": [
       "<matplotlib.collections.PathCollection at 0x1026bf8cc0>"
      ]
     },
     "execution_count": 17,
     "metadata": {},
     "output_type": "execute_result"
    },
    {
     "data": {
      "text/plain": [
       "<matplotlib.collections.PathCollection at 0x107a69668>"
      ]
     },
     "execution_count": 17,
     "metadata": {},
     "output_type": "execute_result"
    },
    {
     "data": {
      "text/plain": [
       "Text(0.5, 0, 'Microchip Test 1')"
      ]
     },
     "execution_count": 17,
     "metadata": {},
     "output_type": "execute_result"
    },
    {
     "data": {
      "text/plain": [
       "Text(0, 0.5, 'Microchip Test 2')"
      ]
     },
     "execution_count": 17,
     "metadata": {},
     "output_type": "execute_result"
    },
    {
     "data": {
      "text/plain": [
       "<matplotlib.legend.Legend at 0x107a69eb8>"
      ]
     },
     "execution_count": 17,
     "metadata": {},
     "output_type": "execute_result"
    },
    {
     "data": {
      "image/png": "[encoded data removed]",
      "text/plain": [
       "<Figure size 432x360 with 1 Axes>"
      ]
     },
     "metadata": {
      "needs_background": "light"
     },
     "output_type": "display_data"
    }
   ],
   "source": [
    "pos = data[data.iloc[:,2] == 1]\n",
    "neg = data[data.iloc[:,2] == 0]\n",
    "plt.figure(figsize=(6,5))\n",
    "plt.scatter(x = pos.iloc[:,0], y =pos.iloc[:,1], marker='+', c='black', label='y = 1')\n",
    "plt.scatter(x = neg.iloc[:,0], y =neg.iloc[:,1], marker='o', c='yellow', edgecolor='black', label='y = 0')\n",
    "plt.xlabel('Microchip Test 1')\n",
    "plt.ylabel('Microchip Test 2')\n",
    "plt.legend()"
   ]
  },
  {
   "cell_type": "markdown",
   "metadata": {},
   "source": [
    "### 2.2 Feature Mapping"
   ]
  },
  {
   "cell_type": "code",
   "execution_count": 18,
   "metadata": {},
   "outputs": [],
   "source": [
    "def mapFeature(X1, X2):\n",
    "    degree = 6\n",
    "    ncols = 28\n",
    "    out = np.zeros((X1.shape[0], ncols))\n",
    "    c = 0\n",
    "    for i in range(7):\n",
    "        for j in range(i+1):\n",
    "            out[:,c] = (X1**(i-j))*(X2**j)\n",
    "            c += 1\n",
    "    return out"
   ]
  },
  {
   "cell_type": "code",
   "execution_count": 19,
   "metadata": {},
   "outputs": [],
   "source": [
    "X = mapFeature(X[:,0], X[:,1])"
   ]
  },
  {
   "cell_type": "code",
   "execution_count": 20,
   "metadata": {},
   "outputs": [
    {
     "data": {
      "text/plain": [
       "(118, 28)"
      ]
     },
     "execution_count": 20,
     "metadata": {},
     "output_type": "execute_result"
    }
   ],
   "source": [
    "X.shape"
   ]
  },
  {
   "cell_type": "markdown",
   "metadata": {},
   "source": [
    "### 2.3 Cost function and gradient"
   ]
  },
  {
   "cell_type": "code",
   "execution_count": 28,
   "metadata": {},
   "outputs": [],
   "source": [
    "def costFunctionReg(theta, X, y, lamb):\n",
    "    m = len(y)\n",
    "    h_theta = sigmoid(np.dot(X,theta))\n",
    "    J = -(np.dot(y.T, np.log(h_theta))+np.dot((1-y).T, np.log(1-h_theta)))/m + lamb*np.sum(theta[1:]**2)/(2*m)\n",
    "    return J\n",
    "\n",
    "def gradientReg(theta, X, y, lamb):\n",
    "    m = len(y)\n",
    "    h_theta = sigmoid(np.dot(X,theta))\n",
    "    temp = theta.copy()\n",
    "    temp[0] = 0\n",
    "    grad = (1/m)*np.dot((h_theta - y).T, X) + lamb*temp/m\n",
    "    return grad"
   ]
  },
  {
   "cell_type": "code",
   "execution_count": 29,
   "metadata": {},
   "outputs": [
    {
     "name": "stdout",
     "output_type": "stream",
     "text": [
      "Cost at initial theta (zeros):  [[0.69314718]]\n"
     ]
    }
   ],
   "source": [
    "# Initialize fitting parameters\n",
    "initial_theta = np.zeros((X.shape[1], 1))\n",
    "\n",
    "# Set regularization parameter lambda to 1\n",
    "lamb = 1\n",
    "\n",
    "# Compute and display initial cost and gradient for regularized logistic regression\n",
    "cost = costFunctionReg(initial_theta, X, y, lamb)\n",
    "grad = gradientReg(initial_theta, X, y, lamb)\n",
    "print('Cost at initial theta (zeros): ', cost);"
   ]
  },
  {
   "cell_type": "markdown",
   "metadata": {},
   "source": [
    "### 2.4 Learning parameters using fmin_tnc"
   ]
  },
  {
   "cell_type": "code",
   "execution_count": 30,
   "metadata": {
    "scrolled": true
   },
   "outputs": [],
   "source": [
    "def fit(theta, X, y, lamb):\n",
    "    opt_weights = fmin_tnc(func=costFunctionReg, x0=theta, fprime=gradientReg, args=(X, y.flatten(),lamb))\n",
    "    return opt_weights[0]\n",
    "theta = fit(initial_theta, X, y, lamb)"
   ]
  },
  {
   "cell_type": "code",
   "execution_count": 31,
   "metadata": {},
   "outputs": [
    {
     "data": {
      "text/plain": [
       "array([ 1.27271027,  0.62529965,  1.18111686, -2.019874  , -0.91743189,\n",
       "       -1.4316693 ,  0.12393227, -0.36553118, -0.35725403, -0.17516292,\n",
       "       -1.4581701 , -0.05098418, -0.61558553, -0.27469166, -1.19271298,\n",
       "       -0.2421784 , -0.20603298, -0.04466178, -0.27778951, -0.29539513,\n",
       "       -0.45645982, -1.04319154,  0.02779373, -0.29244871,  0.0155576 ,\n",
       "       -0.32742406, -0.1438915 , -0.92467487])"
      ]
     },
     "execution_count": 31,
     "metadata": {},
     "output_type": "execute_result"
    }
   ],
   "source": [
    "theta"
   ]
  },
  {
   "cell_type": "code",
   "execution_count": null,
   "metadata": {},
   "outputs": [],
   "source": []
  }
 ],
 "metadata": {
  "kernelspec": {
   "display_name": "Python 3",
   "language": "python",
   "name": "python3"
  },
  "language_info": {
   "codemirror_mode": {
    "name": "ipython",
    "version": 3
   },
   "file_extension": ".py",
   "mimetype": "text/x-python",
   "name": "python",
   "nbconvert_exporter": "python",
   "pygments_lexer": "ipython3",
   "version": "3.6.5"
  }
 },
 "nbformat": 4,
 "nbformat_minor": 2
}
